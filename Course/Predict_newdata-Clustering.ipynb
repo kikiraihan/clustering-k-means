{
 "cells": [
  {
   "cell_type": "code",
   "execution_count": 6,
   "id": "0afccece",
   "metadata": {
    "id": "0afccece",
    "outputId": "3a180729-f4e7-497e-9c91-f1409091dae2",
    "scrolled": false
   },
   "outputs": [
    {
     "name": "stdout",
     "output_type": "stream",
     "text": [
      "Prediction: [1 1 0 0 2 0]\n"
     ]
    }
   ],
   "source": [
    "#Use the saved model to predict new dataset\n",
    "import pandas as pd\n",
    "import pickle\n",
    "\n",
    "x_new = pd.read_csv('new_dataset.csv')\n",
    "load_model = pickle.load(open('Kmeans.pickle', 'rb'))\n",
    "prediction = load_model.predict(x_new)\n",
    "print(\"Prediction: {}\".format(prediction))"
   ]
  }
 ],
 "metadata": {
  "colab": {
   "provenance": []
  },
  "kernelspec": {
   "display_name": "Python 3 (ipykernel)",
   "language": "python",
   "name": "python3"
  },
  "language_info": {
   "codemirror_mode": {
    "name": "ipython",
    "version": 3
   },
   "file_extension": ".py",
   "mimetype": "text/x-python",
   "name": "python",
   "nbconvert_exporter": "python",
   "pygments_lexer": "ipython3",
   "version": "3.9.12"
  }
 },
 "nbformat": 4,
 "nbformat_minor": 5
}
