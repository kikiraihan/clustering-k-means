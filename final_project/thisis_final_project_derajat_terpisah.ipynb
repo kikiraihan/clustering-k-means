{
 "cells": [
  {
   "cell_type": "code",
   "execution_count": 179,
   "metadata": {},
   "outputs": [],
   "source": [
    "# Import library yang diperlukan\n",
    "import cv2\n",
    "import numpy as np\n",
    "import os\n",
    "from skimage.feature import graycomatrix, graycoprops\n",
    "import pandas as pd \n",
    "from umap import UMAP\n",
    "from sklearn.cluster import KMeans\n",
    "import matplotlib.pyplot as plt\n",
    "\n",
    "import plotly.graph_objects as go\n",
    "import plotly.subplots as sp\n",
    "import PIL.Image as pimage\n",
    "from IPython.display import Image\n",
    "\n",
    "\n",
    "import matplotlib.cm as cm\n",
    "from sklearn.metrics import silhouette_samples, silhouette_score"
   ]
  },
  {
   "cell_type": "markdown",
   "metadata": {},
   "source": [
    "# Pra proses"
   ]
  },
  {
   "cell_type": "code",
   "execution_count": 180,
   "metadata": {},
   "outputs": [
    {
     "data": {
      "image/jpeg": "[encoded data removed]",
      "text/plain": [
       "<IPython.core.display.Image object>"
      ]
     },
     "execution_count": 180,
     "metadata": {},
     "output_type": "execute_result"
    }
   ],
   "source": [
    "# Path ke folder yang berisi citra\n",
    "folder_path = './resize_mleaves/'\n",
    "raw_folder_path = './melon_leaves/'\n",
    "image_files = os.listdir(folder_path)\n",
    "\n",
    "Image(filename=folder_path+image_files[5]) "
   ]
  },
  {
   "cell_type": "code",
   "execution_count": null,
   "metadata": {},
   "outputs": [],
   "source": []
  },
  {
   "cell_type": "code",
   "execution_count": 181,
   "metadata": {},
   "outputs": [],
   "source": [
    "imgs_matrix = [] #list image matrix \n",
    "imgs_label = [] #image path\n",
    "for filename in image_files:\n",
    "    image = cv2.imread(folder_path+filename)\n",
    "    gray = cv2.cvtColor(image, cv2.COLOR_BGR2GRAY)\n",
    "\n",
    "    h, w = gray.shape\n",
    "    ymin, ymax, xmin, xmax = h//3, h*2//3, w//3, w*2//3\n",
    "    crop = gray[ymin:ymax, xmin:xmax]\n",
    "\n",
    "    resize = cv2.resize(crop, (0,0), fx=0.5, fy=0.5)\n",
    "\n",
    "    imgs_matrix.append(resize)\n",
    "    imgs_label.append(filename)"
   ]
  },
  {
   "cell_type": "code",
   "execution_count": 182,
   "metadata": {},
   "outputs": [],
   "source": [
    "# ----------------- calculate greycomatrix() & greycoprops() for angle 0, 45, 90, 135 ----------------------------------\n",
    "# what happen if there is some change in parameter GLCM?, distance=4? and levels, what commonly value used?\n",
    "def calc_glcm_all_agls(img, label, props, dists=[5], agls=[0, np.pi/4, np.pi/2, 3*np.pi/4], lvl=256, sym=True, norm=True):\n",
    "    glcm = graycomatrix(\n",
    "        img, \n",
    "        distances=dists, \n",
    "        angles=agls, \n",
    "        levels=lvl,\n",
    "        symmetric=sym, \n",
    "        normed=norm\n",
    "    )\n",
    "    feature = []\n",
    "    feature.append(label) #append label\n",
    "\n",
    "    # append GLCM properties\n",
    "    # glcm_props = []\n",
    "    # for name in props:\n",
    "    #     for property in graycoprops(glcm, name)[0]:\n",
    "    #           glcm_props.append(property)\n",
    "    # for item in glcm_props:\n",
    "    #         feature.append(item)\n",
    "    glcm_props = []\n",
    "    for prop in props:\n",
    "        from_graycoprops = graycoprops(glcm, prop) # shape array (1, 4)\n",
    "        glcm_props.extend(from_graycoprops[0])\n",
    "    feature.extend(glcm_props)\n",
    "\n",
    "    \n",
    "    return feature"
   ]
  },
  {
   "cell_type": "code",
   "execution_count": 183,
   "metadata": {},
   "outputs": [],
   "source": [
    "# ----------------- call calc_glcm_all_agls() for all properties ----------------------------------\n",
    "properties = ['dissimilarity', 'correlation', 'homogeneity', 'contrast', 'ASM', 'energy']\n",
    "\n",
    "glcm_all_agls = []\n",
    "for img,label in zip(imgs_matrix, imgs_label): \n",
    "    glcm_all_agls.append(\n",
    "            calc_glcm_all_agls(img, label, props=properties)\n",
    "            )"
   ]
  },
  {
   "cell_type": "code",
   "execution_count": 184,
   "metadata": {},
   "outputs": [
    {
     "data": {
      "text/html": [
       "<div>\n",
       "<style scoped>\n",
       "    .dataframe tbody tr th:only-of-type {\n",
       "        vertical-align: middle;\n",
       "    }\n",
       "\n",
       "    .dataframe tbody tr th {\n",
       "        vertical-align: top;\n",
       "    }\n",
       "\n",
       "    .dataframe thead th {\n",
       "        text-align: right;\n",
       "    }\n",
       "</style>\n",
       "<table border=\"1\" class=\"dataframe\">\n",
       "  <thead>\n",
       "    <tr style=\"text-align: right;\">\n",
       "      <th></th>\n",
       "      <th>label</th>\n",
       "      <th>dissimilarity_0</th>\n",
       "      <th>dissimilarity_45</th>\n",
       "      <th>dissimilarity_90</th>\n",
       "      <th>dissimilarity_135</th>\n",
       "      <th>correlation_0</th>\n",
       "      <th>correlation_45</th>\n",
       "      <th>correlation_90</th>\n",
       "      <th>correlation_135</th>\n",
       "      <th>homogeneity_0</th>\n",
       "      <th>...</th>\n",
       "      <th>contrast_90</th>\n",
       "      <th>contrast_135</th>\n",
       "      <th>ASM_0</th>\n",
       "      <th>ASM_45</th>\n",
       "      <th>ASM_90</th>\n",
       "      <th>ASM_135</th>\n",
       "      <th>energy_0</th>\n",
       "      <th>energy_45</th>\n",
       "      <th>energy_90</th>\n",
       "      <th>energy_135</th>\n",
       "    </tr>\n",
       "  </thead>\n",
       "  <tbody>\n",
       "    <tr>\n",
       "      <th>0</th>\n",
       "      <td>IMG_20210223_102008.jpg</td>\n",
       "      <td>13.342799</td>\n",
       "      <td>14.581111</td>\n",
       "      <td>11.881339</td>\n",
       "      <td>12.254444</td>\n",
       "      <td>0.377597</td>\n",
       "      <td>0.246085</td>\n",
       "      <td>0.467136</td>\n",
       "      <td>0.425482</td>\n",
       "      <td>0.079451</td>\n",
       "      <td>...</td>\n",
       "      <td>226.956389</td>\n",
       "      <td>262.234444</td>\n",
       "      <td>0.000956</td>\n",
       "      <td>0.001067</td>\n",
       "      <td>0.001076</td>\n",
       "      <td>0.001102</td>\n",
       "      <td>0.030921</td>\n",
       "      <td>0.032669</td>\n",
       "      <td>0.032809</td>\n",
       "      <td>0.033194</td>\n",
       "    </tr>\n",
       "    <tr>\n",
       "      <th>1</th>\n",
       "      <td>IMG_20210223_102746.jpg</td>\n",
       "      <td>26.336714</td>\n",
       "      <td>27.195556</td>\n",
       "      <td>23.474645</td>\n",
       "      <td>27.345556</td>\n",
       "      <td>0.236763</td>\n",
       "      <td>0.204441</td>\n",
       "      <td>0.417236</td>\n",
       "      <td>0.200688</td>\n",
       "      <td>0.036713</td>\n",
       "      <td>...</td>\n",
       "      <td>872.405680</td>\n",
       "      <td>1183.234444</td>\n",
       "      <td>0.000661</td>\n",
       "      <td>0.000699</td>\n",
       "      <td>0.000633</td>\n",
       "      <td>0.000669</td>\n",
       "      <td>0.025717</td>\n",
       "      <td>0.026446</td>\n",
       "      <td>0.025162</td>\n",
       "      <td>0.025868</td>\n",
       "    </tr>\n",
       "    <tr>\n",
       "      <th>2</th>\n",
       "      <td>IMG_20200224_132619.jpg</td>\n",
       "      <td>14.716024</td>\n",
       "      <td>13.613333</td>\n",
       "      <td>10.461460</td>\n",
       "      <td>14.254444</td>\n",
       "      <td>0.720002</td>\n",
       "      <td>0.739957</td>\n",
       "      <td>0.831399</td>\n",
       "      <td>0.727882</td>\n",
       "      <td>0.070532</td>\n",
       "      <td>...</td>\n",
       "      <td>211.745436</td>\n",
       "      <td>332.941111</td>\n",
       "      <td>0.000782</td>\n",
       "      <td>0.000854</td>\n",
       "      <td>0.000896</td>\n",
       "      <td>0.000892</td>\n",
       "      <td>0.027969</td>\n",
       "      <td>0.029218</td>\n",
       "      <td>0.029940</td>\n",
       "      <td>0.029866</td>\n",
       "    </tr>\n",
       "    <tr>\n",
       "      <th>3</th>\n",
       "      <td>IMG_20200224_132816.jpg</td>\n",
       "      <td>15.307302</td>\n",
       "      <td>17.343333</td>\n",
       "      <td>17.998986</td>\n",
       "      <td>16.877778</td>\n",
       "      <td>0.762113</td>\n",
       "      <td>0.696468</td>\n",
       "      <td>0.673362</td>\n",
       "      <td>0.718668</td>\n",
       "      <td>0.071681</td>\n",
       "      <td>...</td>\n",
       "      <td>521.867140</td>\n",
       "      <td>457.660000</td>\n",
       "      <td>0.000690</td>\n",
       "      <td>0.000741</td>\n",
       "      <td>0.000638</td>\n",
       "      <td>0.000691</td>\n",
       "      <td>0.026271</td>\n",
       "      <td>0.027217</td>\n",
       "      <td>0.025253</td>\n",
       "      <td>0.026294</td>\n",
       "    </tr>\n",
       "    <tr>\n",
       "      <th>4</th>\n",
       "      <td>IMG_20210329_13252995.jpg</td>\n",
       "      <td>19.645030</td>\n",
       "      <td>20.323333</td>\n",
       "      <td>18.391481</td>\n",
       "      <td>20.748889</td>\n",
       "      <td>0.124446</td>\n",
       "      <td>0.294564</td>\n",
       "      <td>0.515840</td>\n",
       "      <td>0.049762</td>\n",
       "      <td>0.089755</td>\n",
       "      <td>...</td>\n",
       "      <td>1647.054767</td>\n",
       "      <td>2186.920000</td>\n",
       "      <td>0.001075</td>\n",
       "      <td>0.001022</td>\n",
       "      <td>0.001020</td>\n",
       "      <td>0.001098</td>\n",
       "      <td>0.032785</td>\n",
       "      <td>0.031972</td>\n",
       "      <td>0.031935</td>\n",
       "      <td>0.033129</td>\n",
       "    </tr>\n",
       "    <tr>\n",
       "      <th>5</th>\n",
       "      <td>IMG_20200224_132427.jpg</td>\n",
       "      <td>14.936105</td>\n",
       "      <td>13.477778</td>\n",
       "      <td>13.502028</td>\n",
       "      <td>12.463333</td>\n",
       "      <td>0.147289</td>\n",
       "      <td>0.397122</td>\n",
       "      <td>0.296411</td>\n",
       "      <td>0.339640</td>\n",
       "      <td>0.091638</td>\n",
       "      <td>...</td>\n",
       "      <td>393.522312</td>\n",
       "      <td>377.416667</td>\n",
       "      <td>0.000971</td>\n",
       "      <td>0.001025</td>\n",
       "      <td>0.001010</td>\n",
       "      <td>0.001125</td>\n",
       "      <td>0.031161</td>\n",
       "      <td>0.032011</td>\n",
       "      <td>0.031782</td>\n",
       "      <td>0.033546</td>\n",
       "    </tr>\n",
       "    <tr>\n",
       "      <th>6</th>\n",
       "      <td>IMG_20210223_101844.jpg</td>\n",
       "      <td>18.191684</td>\n",
       "      <td>14.267778</td>\n",
       "      <td>14.506085</td>\n",
       "      <td>19.367778</td>\n",
       "      <td>0.292248</td>\n",
       "      <td>0.525307</td>\n",
       "      <td>0.576097</td>\n",
       "      <td>0.205702</td>\n",
       "      <td>0.057966</td>\n",
       "      <td>...</td>\n",
       "      <td>369.218053</td>\n",
       "      <td>656.625556</td>\n",
       "      <td>0.000787</td>\n",
       "      <td>0.000961</td>\n",
       "      <td>0.000836</td>\n",
       "      <td>0.000867</td>\n",
       "      <td>0.028051</td>\n",
       "      <td>0.031002</td>\n",
       "      <td>0.028909</td>\n",
       "      <td>0.029450</td>\n",
       "    </tr>\n",
       "    <tr>\n",
       "      <th>7</th>\n",
       "      <td>IMG_20210329_132235.jpg</td>\n",
       "      <td>11.429006</td>\n",
       "      <td>10.481111</td>\n",
       "      <td>8.688641</td>\n",
       "      <td>11.370000</td>\n",
       "      <td>0.200086</td>\n",
       "      <td>0.274946</td>\n",
       "      <td>0.548768</td>\n",
       "      <td>0.200701</td>\n",
       "      <td>0.085372</td>\n",
       "      <td>...</td>\n",
       "      <td>119.353955</td>\n",
       "      <td>212.116667</td>\n",
       "      <td>0.001267</td>\n",
       "      <td>0.001434</td>\n",
       "      <td>0.001356</td>\n",
       "      <td>0.001331</td>\n",
       "      <td>0.035598</td>\n",
       "      <td>0.037868</td>\n",
       "      <td>0.036820</td>\n",
       "      <td>0.036489</td>\n",
       "    </tr>\n",
       "    <tr>\n",
       "      <th>8</th>\n",
       "      <td>IMG_20210223_102418.jpg</td>\n",
       "      <td>14.404665</td>\n",
       "      <td>14.617778</td>\n",
       "      <td>13.401623</td>\n",
       "      <td>14.063333</td>\n",
       "      <td>0.277666</td>\n",
       "      <td>0.274844</td>\n",
       "      <td>0.366783</td>\n",
       "      <td>0.317579</td>\n",
       "      <td>0.067287</td>\n",
       "      <td>...</td>\n",
       "      <td>301.756592</td>\n",
       "      <td>319.485556</td>\n",
       "      <td>0.000868</td>\n",
       "      <td>0.000945</td>\n",
       "      <td>0.000916</td>\n",
       "      <td>0.000965</td>\n",
       "      <td>0.029464</td>\n",
       "      <td>0.030742</td>\n",
       "      <td>0.030265</td>\n",
       "      <td>0.031071</td>\n",
       "    </tr>\n",
       "    <tr>\n",
       "      <th>9</th>\n",
       "      <td>IMG_20210223_102342.jpg</td>\n",
       "      <td>6.044625</td>\n",
       "      <td>6.601111</td>\n",
       "      <td>5.987830</td>\n",
       "      <td>5.254444</td>\n",
       "      <td>0.497210</td>\n",
       "      <td>0.329406</td>\n",
       "      <td>0.491040</td>\n",
       "      <td>0.589563</td>\n",
       "      <td>0.147782</td>\n",
       "      <td>...</td>\n",
       "      <td>62.198783</td>\n",
       "      <td>45.981111</td>\n",
       "      <td>0.002521</td>\n",
       "      <td>0.002327</td>\n",
       "      <td>0.002273</td>\n",
       "      <td>0.002677</td>\n",
       "      <td>0.050205</td>\n",
       "      <td>0.048234</td>\n",
       "      <td>0.047678</td>\n",
       "      <td>0.051741</td>\n",
       "    </tr>\n",
       "    <tr>\n",
       "      <th>10</th>\n",
       "      <td>IMG_20210223_102425.jpg</td>\n",
       "      <td>31.943205</td>\n",
       "      <td>31.847778</td>\n",
       "      <td>23.267748</td>\n",
       "      <td>29.268889</td>\n",
       "      <td>-0.042988</td>\n",
       "      <td>-0.029363</td>\n",
       "      <td>0.420673</td>\n",
       "      <td>0.071058</td>\n",
       "      <td>0.032632</td>\n",
       "      <td>...</td>\n",
       "      <td>882.726166</td>\n",
       "      <td>1413.997778</td>\n",
       "      <td>0.000644</td>\n",
       "      <td>0.000706</td>\n",
       "      <td>0.000656</td>\n",
       "      <td>0.000689</td>\n",
       "      <td>0.025375</td>\n",
       "      <td>0.026574</td>\n",
       "      <td>0.025617</td>\n",
       "      <td>0.026247</td>\n",
       "    </tr>\n",
       "    <tr>\n",
       "      <th>11</th>\n",
       "      <td>IMG_20200224_132354.jpg</td>\n",
       "      <td>16.564909</td>\n",
       "      <td>18.008889</td>\n",
       "      <td>16.795132</td>\n",
       "      <td>17.276667</td>\n",
       "      <td>0.666610</td>\n",
       "      <td>0.596249</td>\n",
       "      <td>0.646051</td>\n",
       "      <td>0.622549</td>\n",
       "      <td>0.061606</td>\n",
       "      <td>...</td>\n",
       "      <td>487.608519</td>\n",
       "      <td>487.003333</td>\n",
       "      <td>0.000718</td>\n",
       "      <td>0.000759</td>\n",
       "      <td>0.000708</td>\n",
       "      <td>0.000763</td>\n",
       "      <td>0.026804</td>\n",
       "      <td>0.027543</td>\n",
       "      <td>0.026602</td>\n",
       "      <td>0.027622</td>\n",
       "    </tr>\n",
       "    <tr>\n",
       "      <th>12</th>\n",
       "      <td>IMG_20210223_102141.jpg</td>\n",
       "      <td>11.010142</td>\n",
       "      <td>9.907778</td>\n",
       "      <td>9.576065</td>\n",
       "      <td>9.708889</td>\n",
       "      <td>-0.038380</td>\n",
       "      <td>0.018165</td>\n",
       "      <td>0.084859</td>\n",
       "      <td>0.066539</td>\n",
       "      <td>0.103942</td>\n",
       "      <td>...</td>\n",
       "      <td>277.229209</td>\n",
       "      <td>300.635556</td>\n",
       "      <td>0.001683</td>\n",
       "      <td>0.001750</td>\n",
       "      <td>0.001711</td>\n",
       "      <td>0.001777</td>\n",
       "      <td>0.041022</td>\n",
       "      <td>0.041833</td>\n",
       "      <td>0.041359</td>\n",
       "      <td>0.042156</td>\n",
       "    </tr>\n",
       "    <tr>\n",
       "      <th>13</th>\n",
       "      <td>IMG_20210329_13252994.jpg</td>\n",
       "      <td>7.292089</td>\n",
       "      <td>8.716667</td>\n",
       "      <td>7.761663</td>\n",
       "      <td>6.634444</td>\n",
       "      <td>0.439094</td>\n",
       "      <td>0.223508</td>\n",
       "      <td>0.352759</td>\n",
       "      <td>0.539265</td>\n",
       "      <td>0.154633</td>\n",
       "      <td>...</td>\n",
       "      <td>104.573022</td>\n",
       "      <td>76.010000</td>\n",
       "      <td>0.001983</td>\n",
       "      <td>0.001869</td>\n",
       "      <td>0.001983</td>\n",
       "      <td>0.002117</td>\n",
       "      <td>0.044527</td>\n",
       "      <td>0.043226</td>\n",
       "      <td>0.044532</td>\n",
       "      <td>0.046007</td>\n",
       "    </tr>\n",
       "    <tr>\n",
       "      <th>14</th>\n",
       "      <td>IMG_20200224_132156.jpg</td>\n",
       "      <td>6.055781</td>\n",
       "      <td>5.675556</td>\n",
       "      <td>4.338742</td>\n",
       "      <td>5.531111</td>\n",
       "      <td>0.494364</td>\n",
       "      <td>0.556764</td>\n",
       "      <td>0.743044</td>\n",
       "      <td>0.579006</td>\n",
       "      <td>0.142705</td>\n",
       "      <td>...</td>\n",
       "      <td>31.602434</td>\n",
       "      <td>46.468889</td>\n",
       "      <td>0.002173</td>\n",
       "      <td>0.002327</td>\n",
       "      <td>0.002712</td>\n",
       "      <td>0.002328</td>\n",
       "      <td>0.046615</td>\n",
       "      <td>0.048234</td>\n",
       "      <td>0.052076</td>\n",
       "      <td>0.048253</td>\n",
       "    </tr>\n",
       "  </tbody>\n",
       "</table>\n",
       "<p>15 rows × 25 columns</p>\n",
       "</div>"
      ],
      "text/plain": [
       "                        label  dissimilarity_0  dissimilarity_45  \\\n",
       "0     IMG_20210223_102008.jpg        13.342799         14.581111   \n",
       "1     IMG_20210223_102746.jpg        26.336714         27.195556   \n",
       "2     IMG_20200224_132619.jpg        14.716024         13.613333   \n",
       "3     IMG_20200224_132816.jpg        15.307302         17.343333   \n",
       "4   IMG_20210329_13252995.jpg        19.645030         20.323333   \n",
       "5     IMG_20200224_132427.jpg        14.936105         13.477778   \n",
       "6     IMG_20210223_101844.jpg        18.191684         14.267778   \n",
       "7     IMG_20210329_132235.jpg        11.429006         10.481111   \n",
       "8     IMG_20210223_102418.jpg        14.404665         14.617778   \n",
       "9     IMG_20210223_102342.jpg         6.044625          6.601111   \n",
       "10    IMG_20210223_102425.jpg        31.943205         31.847778   \n",
       "11    IMG_20200224_132354.jpg        16.564909         18.008889   \n",
       "12    IMG_20210223_102141.jpg        11.010142          9.907778   \n",
       "13  IMG_20210329_13252994.jpg         7.292089          8.716667   \n",
       "14    IMG_20200224_132156.jpg         6.055781          5.675556   \n",
       "\n",
       "    dissimilarity_90  dissimilarity_135  correlation_0  correlation_45  \\\n",
       "0          11.881339          12.254444       0.377597        0.246085   \n",
       "1          23.474645          27.345556       0.236763        0.204441   \n",
       "2          10.461460          14.254444       0.720002        0.739957   \n",
       "3          17.998986          16.877778       0.762113        0.696468   \n",
       "4          18.391481          20.748889       0.124446        0.294564   \n",
       "5          13.502028          12.463333       0.147289        0.397122   \n",
       "6          14.506085          19.367778       0.292248        0.525307   \n",
       "7           8.688641          11.370000       0.200086        0.274946   \n",
       "8          13.401623          14.063333       0.277666        0.274844   \n",
       "9           5.987830           5.254444       0.497210        0.329406   \n",
       "10         23.267748          29.268889      -0.042988       -0.029363   \n",
       "11         16.795132          17.276667       0.666610        0.596249   \n",
       "12          9.576065           9.708889      -0.038380        0.018165   \n",
       "13          7.761663           6.634444       0.439094        0.223508   \n",
       "14          4.338742           5.531111       0.494364        0.556764   \n",
       "\n",
       "    correlation_90  correlation_135  homogeneity_0  ...  contrast_90  \\\n",
       "0         0.467136         0.425482       0.079451  ...   226.956389   \n",
       "1         0.417236         0.200688       0.036713  ...   872.405680   \n",
       "2         0.831399         0.727882       0.070532  ...   211.745436   \n",
       "3         0.673362         0.718668       0.071681  ...   521.867140   \n",
       "4         0.515840         0.049762       0.089755  ...  1647.054767   \n",
       "5         0.296411         0.339640       0.091638  ...   393.522312   \n",
       "6         0.576097         0.205702       0.057966  ...   369.218053   \n",
       "7         0.548768         0.200701       0.085372  ...   119.353955   \n",
       "8         0.366783         0.317579       0.067287  ...   301.756592   \n",
       "9         0.491040         0.589563       0.147782  ...    62.198783   \n",
       "10        0.420673         0.071058       0.032632  ...   882.726166   \n",
       "11        0.646051         0.622549       0.061606  ...   487.608519   \n",
       "12        0.084859         0.066539       0.103942  ...   277.229209   \n",
       "13        0.352759         0.539265       0.154633  ...   104.573022   \n",
       "14        0.743044         0.579006       0.142705  ...    31.602434   \n",
       "\n",
       "    contrast_135     ASM_0    ASM_45    ASM_90   ASM_135  energy_0  energy_45  \\\n",
       "0     262.234444  0.000956  0.001067  0.001076  0.001102  0.030921   0.032669   \n",
       "1    1183.234444  0.000661  0.000699  0.000633  0.000669  0.025717   0.026446   \n",
       "2     332.941111  0.000782  0.000854  0.000896  0.000892  0.027969   0.029218   \n",
       "3     457.660000  0.000690  0.000741  0.000638  0.000691  0.026271   0.027217   \n",
       "4    2186.920000  0.001075  0.001022  0.001020  0.001098  0.032785   0.031972   \n",
       "5     377.416667  0.000971  0.001025  0.001010  0.001125  0.031161   0.032011   \n",
       "6     656.625556  0.000787  0.000961  0.000836  0.000867  0.028051   0.031002   \n",
       "7     212.116667  0.001267  0.001434  0.001356  0.001331  0.035598   0.037868   \n",
       "8     319.485556  0.000868  0.000945  0.000916  0.000965  0.029464   0.030742   \n",
       "9      45.981111  0.002521  0.002327  0.002273  0.002677  0.050205   0.048234   \n",
       "10   1413.997778  0.000644  0.000706  0.000656  0.000689  0.025375   0.026574   \n",
       "11    487.003333  0.000718  0.000759  0.000708  0.000763  0.026804   0.027543   \n",
       "12    300.635556  0.001683  0.001750  0.001711  0.001777  0.041022   0.041833   \n",
       "13     76.010000  0.001983  0.001869  0.001983  0.002117  0.044527   0.043226   \n",
       "14     46.468889  0.002173  0.002327  0.002712  0.002328  0.046615   0.048234   \n",
       "\n",
       "    energy_90  energy_135  \n",
       "0    0.032809    0.033194  \n",
       "1    0.025162    0.025868  \n",
       "2    0.029940    0.029866  \n",
       "3    0.025253    0.026294  \n",
       "4    0.031935    0.033129  \n",
       "5    0.031782    0.033546  \n",
       "6    0.028909    0.029450  \n",
       "7    0.036820    0.036489  \n",
       "8    0.030265    0.031071  \n",
       "9    0.047678    0.051741  \n",
       "10   0.025617    0.026247  \n",
       "11   0.026602    0.027622  \n",
       "12   0.041359    0.042156  \n",
       "13   0.044532    0.046007  \n",
       "14   0.052076    0.048253  \n",
       "\n",
       "[15 rows x 25 columns]"
      ]
     },
     "execution_count": 184,
     "metadata": {},
     "output_type": "execute_result"
    }
   ],
   "source": [
    "# Create the pandas DataFrame for GLCM features data\n",
    "# column\n",
    "columns = []\n",
    "columns.append(\"label\") #label column\n",
    "# GLCM column\n",
    "angles = ['0', '45', '90','135']\n",
    "for name in properties:\n",
    "    for ang in angles:\n",
    "        columns.append(name + \"_\" + ang)\n",
    "\n",
    "# create dataframe\n",
    "glcm_df = pd.DataFrame(glcm_all_agls, columns = columns)\n",
    "glcm_df.head(15)"
   ]
  },
  {
   "cell_type": "code",
   "execution_count": 185,
   "metadata": {},
   "outputs": [
    {
     "data": {
      "text/plain": [
       "(160, 25)"
      ]
     },
     "execution_count": 185,
     "metadata": {},
     "output_type": "execute_result"
    }
   ],
   "source": [
    "glcm_df.shape"
   ]
  },
  {
   "cell_type": "code",
   "execution_count": null,
   "metadata": {},
   "outputs": [],
   "source": [
    "# Filter hanya kolom yang berakhiran \"_0\"\n",
    "filtered_columns = [col for col in glcm_df.columns if col.endswith('_135')]\n",
    "glcm_df[filtered_columns]"
   ]
  },
  {
   "cell_type": "markdown",
   "metadata": {},
   "source": [
    "# Reduksi Dimensi\n"
   ]
  },
  {
   "cell_type": "code",
   "execution_count": 187,
   "metadata": {},
   "outputs": [],
   "source": [
    "# X = glcm_df.drop(['label'], axis=1)\n",
    "X = glcm_df[filtered_columns]\n",
    "Y = glcm_df['label']\n",
    "\n",
    "# UMAP reduction\n",
    "# Reduce the dimensions of entity embeddings to represent them in a 2D plane.\n",
    "X_scaled = UMAP().fit_transform(X)\n",
    "X_scaled=pd.DataFrame(X_scaled,columns=['feature-vector-1','feature-vector-2'])"
   ]
  },
  {
   "cell_type": "code",
   "execution_count": 188,
   "metadata": {},
   "outputs": [
    {
     "data": {
      "application/vnd.plotly.v1+json": {
       "config": {
        "plotlyServerURL": "https://plot.ly"
       },
       "data": [
        {
         "marker": {
          "size": 10
         },
         "mode": "markers",
         "type": "scatter",
         "x": [
          -2.37237548828125,
          15.714101791381836,
          -0.4515981376171112,
          2.7385764122009277,
          17.950599670410156,
          0.6987543702125549,
          5.73444128036499,
          -3.979769229888916,
          -0.7966004610061646,
          -11.986384391784668,
          17.613391876220703,
          3.73321533203125,
          -1.446764588356018,
          -11.354232788085938,
          -12.048384666442871,
          0.8459247946739197,
          7.221024036407471,
          -0.36502060294151306,
          -8.71058177947998,
          0.8526827692985535,
          0.5269209146499634,
          15.602185249328613,
          2.4525933265686035,
          4.027917861938477,
          17.857181549072266,
          -1.3938084840774536,
          4.324208736419678,
          3.71537184715271,
          -2.2217369079589844,
          2.4088220596313477,
          4.409882068634033,
          -1.939372181892395,
          13.822837829589844,
          0.080925352871418,
          0.7875608801841736,
          14.06011962890625,
          17.693323135375977,
          -8.14709758758545,
          7.216017723083496,
          -12.022568702697754,
          -7.58575963973999,
          -0.42000502347946167,
          4.520700454711914,
          -5.271797180175781,
          -11.820066452026367,
          -11.091965675354004,
          3.960681676864624,
          -0.9423847794532776,
          -4.42254114151001,
          -1.6859779357910156,
          -5.750586032867432,
          15.256109237670898,
          -3.7894344329833984,
          -6.33896541595459,
          2.602992534637451,
          13.723773956298828,
          6.239323616027832,
          13.879640579223633,
          6.049255847930908,
          2.7785558700561523,
          4.797574996948242,
          -5.07495641708374,
          3.9876205921173096,
          7.130931377410889,
          6.306115627288818,
          6.766739368438721,
          -3.1273763179779053,
          -5.936023712158203,
          17.337818145751953,
          0.5683220624923706,
          13.74551773071289,
          14.904204368591309,
          -3.4887781143188477,
          -1.6375213861465454,
          -4.111954212188721,
          7.141585350036621,
          5.80803108215332,
          -6.117840766906738,
          4.276634693145752,
          0.5892600417137146,
          -8.06862735748291,
          -11.90123462677002,
          -7.917562961578369,
          15.208813667297363,
          15.614880561828613,
          5.9858717918396,
          -0.07586989551782608,
          -2.030881643295288,
          -0.42959064245224,
          6.750488758087158,
          -5.9492387771606445,
          2.430957555770874,
          17.77804946899414,
          -4.185436248779297,
          4.4720306396484375,
          -11.502058982849121,
          -8.855084419250488,
          -2.8301496505737305,
          4.760865211486816,
          -8.297609329223633,
          13.893708229064941,
          6.592895030975342,
          0.45808956027030945,
          4.653965950012207,
          4.8954997062683105,
          2.7657485008239746,
          -7.447746276855469,
          -8.950700759887695,
          17.733463287353516,
          -7.951666831970215,
          14.229445457458496,
          14.224321365356445,
          -3.350818634033203,
          -1.661189079284668,
          4.570265769958496,
          5.8893890380859375,
          5.92061710357666,
          15.581055641174316,
          3.919955253601074,
          4.241392135620117,
          4.1325225830078125,
          6.970594882965088,
          -8.051900863647461,
          17.445058822631836,
          17.555830001831055,
          6.845562934875488,
          4.998546600341797,
          17.773235321044922,
          14.165385246276855,
          6.044349193572998,
          15.416905403137207,
          -8.536726951599121,
          -4.951138496398926,
          17.92757797241211,
          -11.69694709777832,
          -1.9254798889160156,
          -0.20581163465976715,
          -3.374248743057251,
          14.129067420959473,
          -6.059476375579834,
          6.217414855957031,
          15.10470962524414,
          -6.1992106437683105,
          4.824196815490723,
          -11.643911361694336,
          -3.7351417541503906,
          -4.1446943283081055,
          2.327479362487793,
          -8.695960998535156,
          -5.841577529907227,
          -11.328102111816406,
          14.017457962036133,
          2.8596031665802,
          -8.41593074798584,
          6.474282741546631,
          5.014206409454346,
          -11.755149841308594,
          -11.37269401550293,
          -3.7641689777374268,
          -5.76671838760376
         ],
         "y": [
          2.2365121841430664,
          10.611584663391113,
          0.29760754108428955,
          -4.37740421295166,
          9.88040542602539,
          -1.1073201894760132,
          3.581129550933838,
          3.64835786819458,
          0.6959090828895569,
          5.140337944030762,
          9.461045265197754,
          -5.7187299728393555,
          1.3669283390045166,
          5.036276340484619,
          5.176505088806152,
          -1.2759493589401245,
          3.808398962020874,
          0.20897825062274933,
          4.683012962341309,
          -1.2777966260910034,
          -0.9077956080436707,
          10.601398468017578,
          -3.9881961345672607,
          -6.092192649841309,
          9.722623825073242,
          1.3166142702102661,
          -6.504303455352783,
          -5.730833530426025,
          2.101304769515991,
          -3.929413318634033,
          -6.643294811248779,
          1.8310749530792236,
          10.886317253112793,
          -0.3325166702270508,
          -1.2063262462615967,
          11.110823631286621,
          9.570955276489258,
          4.644733905792236,
          3.807391405105591,
          5.126482009887695,
          4.651715278625488,
          0.26529741287231445,
          -6.913940906524658,
          4.588688373565674,
          5.35150146484375,
          4.924826145172119,
          -6.026389122009277,
          0.8496153950691223,
          3.9949874877929688,
          1.5998784303665161,
          4.9953813552856445,
          10.42177677154541,
          3.4798355102539062,
          4.918360233306885,
          -4.210968017578125,
          10.79239273071289,
          3.5902676582336426,
          10.912683486938477,
          3.7277023792266846,
          -4.423475742340088,
          -7.185882568359375,
          4.4383721351623535,
          -6.060034275054932,
          3.722449779510498,
          3.525226354598999,
          3.435784339904785,
          2.903305768966675,
          4.937354564666748,
          9.729044914245605,
          -0.9678599238395691,
          10.763869285583496,
          10.630288124084473,
          3.228201150894165,
          1.5555649995803833,
          3.7621257305145264,
          3.7244157791137695,
          3.622941017150879,
          4.848767280578613,
          -6.465872764587402,
          -0.979173481464386,
          4.4350690841674805,
          5.333555698394775,
          4.507524490356445,
          10.494593620300293,
          10.552872657775879,
          3.762249708175659,
          -0.15106648206710815,
          1.918872594833374,
          0.274225652217865,
          3.3449392318725586,
          5.070815086364746,
          -3.956312894821167,
          9.633771896362305,
          3.8258872032165527,
          -6.816173553466797,
          5.130345344543457,
          4.849386215209961,
          2.644191026687622,
          -7.149683475494385,
          4.740429401397705,
          10.94592571258545,
          3.4712741374969482,
          -0.8226548433303833,
          -7.049290657043457,
          -7.285383224487305,
          -4.411668300628662,
          4.690242290496826,
          4.762933731079102,
          9.623659133911133,
          4.498372554779053,
          10.994121551513672,
          11.128384590148926,
          3.108715057373047,
          1.577449083328247,
          -6.961686134338379,
          3.695383310317993,
          3.7991645336151123,
          10.517123222351074,
          -6.027050971984863,
          -6.401999473571777,
          -6.275401592254639,
          3.5858635902404785,
          4.51949405670166,
          9.549805641174316,
          9.374183654785156,
          3.615457773208618,
          -7.385564804077148,
          9.695831298828125,
          10.952221870422363,
          3.6822092533111572,
          10.510834693908691,
          4.62407112121582,
          4.352494239807129,
          9.864007949829102,
          5.325282096862793,
          1.8184142112731934,
          0.009431013837456703,
          3.1567087173461914,
          11.108146667480469,
          4.9318766593933105,
          3.592728853225708,
          10.48844051361084,
          4.931462287902832,
          -7.213918685913086,
          5.335860252380371,
          3.4636449813842773,
          3.7832133769989014,
          -3.8297595977783203,
          4.701222896575928,
          5.078683853149414,
          5.026620388031006,
          10.834002494812012,
          -4.51400899887085,
          4.65064811706543,
          3.3860864639282227,
          -7.390478134155273,
          5.182737827301025,
          4.973730087280273,
          3.4204559326171875,
          4.916305065155029
         ]
        }
       ],
       "layout": {
        "template": {
         "data": {
          "bar": [
           {
            "error_x": {
             "color": "#2a3f5f"
            },
            "error_y": {
             "color": "#2a3f5f"
            },
            "marker": {
             "line": {
              "color": "#E5ECF6",
              "width": 0.5
             },
             "pattern": {
              "fillmode": "overlay",
              "size": 10,
              "solidity": 0.2
             }
            },
            "type": "bar"
           }
          ],
          "barpolar": [
           {
            "marker": {
             "line": {
              "color": "#E5ECF6",
              "width": 0.5
             },
             "pattern": {
              "fillmode": "overlay",
              "size": 10,
              "solidity": 0.2
             }
            },
            "type": "barpolar"
           }
          ],
          "carpet": [
           {
            "aaxis": {
             "endlinecolor": "#2a3f5f",
             "gridcolor": "white",
             "linecolor": "white",
             "minorgridcolor": "white",
             "startlinecolor": "#2a3f5f"
            },
            "baxis": {
             "endlinecolor": "#2a3f5f",
             "gridcolor": "white",
             "linecolor": "white",
             "minorgridcolor": "white",
             "startlinecolor": "#2a3f5f"
            },
            "type": "carpet"
           }
          ],
          "choropleth": [
           {
            "colorbar": {
             "outlinewidth": 0,
             "ticks": ""
            },
            "type": "choropleth"
           }
          ],
          "contour": [
           {
            "colorbar": {
             "outlinewidth": 0,
             "ticks": ""
            },
            "colorscale": [
             [
              0,
              "#0d0887"
             ],
             [
              0.1111111111111111,
              "#46039f"
             ],
             [
              0.2222222222222222,
              "#7201a8"
             ],
             [
              0.3333333333333333,
              "#9c179e"
             ],
             [
              0.4444444444444444,
              "#bd3786"
             ],
             [
              0.5555555555555556,
              "#d8576b"
             ],
             [
              0.6666666666666666,
              "#ed7953"
             ],
             [
              0.7777777777777778,
              "#fb9f3a"
             ],
             [
              0.8888888888888888,
              "#fdca26"
             ],
             [
              1,
              "#f0f921"
             ]
            ],
            "type": "contour"
           }
          ],
          "contourcarpet": [
           {
            "colorbar": {
             "outlinewidth": 0,
             "ticks": ""
            },
            "type": "contourcarpet"
           }
          ],
          "heatmap": [
           {
            "colorbar": {
             "outlinewidth": 0,
             "ticks": ""
            },
            "colorscale": [
             [
              0,
              "#0d0887"
             ],
             [
              0.1111111111111111,
              "#46039f"
             ],
             [
              0.2222222222222222,
              "#7201a8"
             ],
             [
              0.3333333333333333,
              "#9c179e"
             ],
             [
              0.4444444444444444,
              "#bd3786"
             ],
             [
              0.5555555555555556,
              "#d8576b"
             ],
             [
              0.6666666666666666,
              "#ed7953"
             ],
             [
              0.7777777777777778,
              "#fb9f3a"
             ],
             [
              0.8888888888888888,
              "#fdca26"
             ],
             [
              1,
              "#f0f921"
             ]
            ],
            "type": "heatmap"
           }
          ],
          "heatmapgl": [
           {
            "colorbar": {
             "outlinewidth": 0,
             "ticks": ""
            },
            "colorscale": [
             [
              0,
              "#0d0887"
             ],
             [
              0.1111111111111111,
              "#46039f"
             ],
             [
              0.2222222222222222,
              "#7201a8"
             ],
             [
              0.3333333333333333,
              "#9c179e"
             ],
             [
              0.4444444444444444,
              "#bd3786"
             ],
             [
              0.5555555555555556,
              "#d8576b"
             ],
             [
              0.6666666666666666,
              "#ed7953"
             ],
             [
              0.7777777777777778,
              "#fb9f3a"
             ],
             [
              0.8888888888888888,
              "#fdca26"
             ],
             [
              1,
              "#f0f921"
             ]
            ],
            "type": "heatmapgl"
           }
          ],
          "histogram": [
           {
            "marker": {
             "pattern": {
              "fillmode": "overlay",
              "size": 10,
              "solidity": 0.2
             }
            },
            "type": "histogram"
           }
          ],
          "histogram2d": [
           {
            "colorbar": {
             "outlinewidth": 0,
             "ticks": ""
            },
            "colorscale": [
             [
              0,
              "#0d0887"
             ],
             [
              0.1111111111111111,
              "#46039f"
             ],
             [
              0.2222222222222222,
              "#7201a8"
             ],
             [
              0.3333333333333333,
              "#9c179e"
             ],
             [
              0.4444444444444444,
              "#bd3786"
             ],
             [
              0.5555555555555556,
              "#d8576b"
             ],
             [
              0.6666666666666666,
              "#ed7953"
             ],
             [
              0.7777777777777778,
              "#fb9f3a"
             ],
             [
              0.8888888888888888,
              "#fdca26"
             ],
             [
              1,
              "#f0f921"
             ]
            ],
            "type": "histogram2d"
           }
          ],
          "histogram2dcontour": [
           {
            "colorbar": {
             "outlinewidth": 0,
             "ticks": ""
            },
            "colorscale": [
             [
              0,
              "#0d0887"
             ],
             [
              0.1111111111111111,
              "#46039f"
             ],
             [
              0.2222222222222222,
              "#7201a8"
             ],
             [
              0.3333333333333333,
              "#9c179e"
             ],
             [
              0.4444444444444444,
              "#bd3786"
             ],
             [
              0.5555555555555556,
              "#d8576b"
             ],
             [
              0.6666666666666666,
              "#ed7953"
             ],
             [
              0.7777777777777778,
              "#fb9f3a"
             ],
             [
              0.8888888888888888,
              "#fdca26"
             ],
             [
              1,
              "#f0f921"
             ]
            ],
            "type": "histogram2dcontour"
           }
          ],
          "mesh3d": [
           {
            "colorbar": {
             "outlinewidth": 0,
             "ticks": ""
            },
            "type": "mesh3d"
           }
          ],
          "parcoords": [
           {
            "line": {
             "colorbar": {
              "outlinewidth": 0,
              "ticks": ""
             }
            },
            "type": "parcoords"
           }
          ],
          "pie": [
           {
            "automargin": true,
            "type": "pie"
           }
          ],
          "scatter": [
           {
            "fillpattern": {
             "fillmode": "overlay",
             "size": 10,
             "solidity": 0.2
            },
            "type": "scatter"
           }
          ],
          "scatter3d": [
           {
            "line": {
             "colorbar": {
              "outlinewidth": 0,
              "ticks": ""
             }
            },
            "marker": {
             "colorbar": {
              "outlinewidth": 0,
              "ticks": ""
             }
            },
            "type": "scatter3d"
           }
          ],
          "scattercarpet": [
           {
            "marker": {
             "colorbar": {
              "outlinewidth": 0,
              "ticks": ""
             }
            },
            "type": "scattercarpet"
           }
          ],
          "scattergeo": [
           {
            "marker": {
             "colorbar": {
              "outlinewidth": 0,
              "ticks": ""
             }
            },
            "type": "scattergeo"
           }
          ],
          "scattergl": [
           {
            "marker": {
             "colorbar": {
              "outlinewidth": 0,
              "ticks": ""
             }
            },
            "type": "scattergl"
           }
          ],
          "scattermapbox": [
           {
            "marker": {
             "colorbar": {
              "outlinewidth": 0,
              "ticks": ""
             }
            },
            "type": "scattermapbox"
           }
          ],
          "scatterpolar": [
           {
            "marker": {
             "colorbar": {
              "outlinewidth": 0,
              "ticks": ""
             }
            },
            "type": "scatterpolar"
           }
          ],
          "scatterpolargl": [
           {
            "marker": {
             "colorbar": {
              "outlinewidth": 0,
              "ticks": ""
             }
            },
            "type": "scatterpolargl"
           }
          ],
          "scatterternary": [
           {
            "marker": {
             "colorbar": {
              "outlinewidth": 0,
              "ticks": ""
             }
            },
            "type": "scatterternary"
           }
          ],
          "surface": [
           {
            "colorbar": {
             "outlinewidth": 0,
             "ticks": ""
            },
            "colorscale": [
             [
              0,
              "#0d0887"
             ],
             [
              0.1111111111111111,
              "#46039f"
             ],
             [
              0.2222222222222222,
              "#7201a8"
             ],
             [
              0.3333333333333333,
              "#9c179e"
             ],
             [
              0.4444444444444444,
              "#bd3786"
             ],
             [
              0.5555555555555556,
              "#d8576b"
             ],
             [
              0.6666666666666666,
              "#ed7953"
             ],
             [
              0.7777777777777778,
              "#fb9f3a"
             ],
             [
              0.8888888888888888,
              "#fdca26"
             ],
             [
              1,
              "#f0f921"
             ]
            ],
            "type": "surface"
           }
          ],
          "table": [
           {
            "cells": {
             "fill": {
              "color": "#EBF0F8"
             },
             "line": {
              "color": "white"
             }
            },
            "header": {
             "fill": {
              "color": "#C8D4E3"
             },
             "line": {
              "color": "white"
             }
            },
            "type": "table"
           }
          ]
         },
         "layout": {
          "annotationdefaults": {
           "arrowcolor": "#2a3f5f",
           "arrowhead": 0,
           "arrowwidth": 1
          },
          "autotypenumbers": "strict",
          "coloraxis": {
           "colorbar": {
            "outlinewidth": 0,
            "ticks": ""
           }
          },
          "colorscale": {
           "diverging": [
            [
             0,
             "#8e0152"
            ],
            [
             0.1,
             "#c51b7d"
            ],
            [
             0.2,
             "#de77ae"
            ],
            [
             0.3,
             "#f1b6da"
            ],
            [
             0.4,
             "#fde0ef"
            ],
            [
             0.5,
             "#f7f7f7"
            ],
            [
             0.6,
             "#e6f5d0"
            ],
            [
             0.7,
             "#b8e186"
            ],
            [
             0.8,
             "#7fbc41"
            ],
            [
             0.9,
             "#4d9221"
            ],
            [
             1,
             "#276419"
            ]
           ],
           "sequential": [
            [
             0,
             "#0d0887"
            ],
            [
             0.1111111111111111,
             "#46039f"
            ],
            [
             0.2222222222222222,
             "#7201a8"
            ],
            [
             0.3333333333333333,
             "#9c179e"
            ],
            [
             0.4444444444444444,
             "#bd3786"
            ],
            [
             0.5555555555555556,
             "#d8576b"
            ],
            [
             0.6666666666666666,
             "#ed7953"
            ],
            [
             0.7777777777777778,
             "#fb9f3a"
            ],
            [
             0.8888888888888888,
             "#fdca26"
            ],
            [
             1,
             "#f0f921"
            ]
           ],
           "sequentialminus": [
            [
             0,
             "#0d0887"
            ],
            [
             0.1111111111111111,
             "#46039f"
            ],
            [
             0.2222222222222222,
             "#7201a8"
            ],
            [
             0.3333333333333333,
             "#9c179e"
            ],
            [
             0.4444444444444444,
             "#bd3786"
            ],
            [
             0.5555555555555556,
             "#d8576b"
            ],
            [
             0.6666666666666666,
             "#ed7953"
            ],
            [
             0.7777777777777778,
             "#fb9f3a"
            ],
            [
             0.8888888888888888,
             "#fdca26"
            ],
            [
             1,
             "#f0f921"
            ]
           ]
          },
          "colorway": [
           "#636efa",
           "#EF553B",
           "#00cc96",
           "#ab63fa",
           "#FFA15A",
           "#19d3f3",
           "#FF6692",
           "#B6E880",
           "#FF97FF",
           "#FECB52"
          ],
          "font": {
           "color": "#2a3f5f"
          },
          "geo": {
           "bgcolor": "white",
           "lakecolor": "white",
           "landcolor": "#E5ECF6",
           "showlakes": true,
           "showland": true,
           "subunitcolor": "white"
          },
          "hoverlabel": {
           "align": "left"
          },
          "hovermode": "closest",
          "mapbox": {
           "style": "light"
          },
          "paper_bgcolor": "white",
          "plot_bgcolor": "#E5ECF6",
          "polar": {
           "angularaxis": {
            "gridcolor": "white",
            "linecolor": "white",
            "ticks": ""
           },
           "bgcolor": "#E5ECF6",
           "radialaxis": {
            "gridcolor": "white",
            "linecolor": "white",
            "ticks": ""
           }
          },
          "scene": {
           "xaxis": {
            "backgroundcolor": "#E5ECF6",
            "gridcolor": "white",
            "gridwidth": 2,
            "linecolor": "white",
            "showbackground": true,
            "ticks": "",
            "zerolinecolor": "white"
           },
           "yaxis": {
            "backgroundcolor": "#E5ECF6",
            "gridcolor": "white",
            "gridwidth": 2,
            "linecolor": "white",
            "showbackground": true,
            "ticks": "",
            "zerolinecolor": "white"
           },
           "zaxis": {
            "backgroundcolor": "#E5ECF6",
            "gridcolor": "white",
            "gridwidth": 2,
            "linecolor": "white",
            "showbackground": true,
            "ticks": "",
            "zerolinecolor": "white"
           }
          },
          "shapedefaults": {
           "line": {
            "color": "#2a3f5f"
           }
          },
          "ternary": {
           "aaxis": {
            "gridcolor": "white",
            "linecolor": "white",
            "ticks": ""
           },
           "baxis": {
            "gridcolor": "white",
            "linecolor": "white",
            "ticks": ""
           },
           "bgcolor": "#E5ECF6",
           "caxis": {
            "gridcolor": "white",
            "linecolor": "white",
            "ticks": ""
           }
          },
          "title": {
           "x": 0.05
          },
          "xaxis": {
           "automargin": true,
           "gridcolor": "white",
           "linecolor": "white",
           "ticks": "",
           "title": {
            "standoff": 15
           },
           "zerolinecolor": "white",
           "zerolinewidth": 2
          },
          "yaxis": {
           "automargin": true,
           "gridcolor": "white",
           "linecolor": "white",
           "ticks": "",
           "title": {
            "standoff": 15
           },
           "zerolinecolor": "white",
           "zerolinewidth": 2
          }
         }
        },
        "title": {
         "text": "Scatter Plot"
        },
        "xaxis": {
         "scaleanchor": "y"
        },
        "yaxis": {
         "scaleanchor": "x"
        }
       }
      }
     },
     "metadata": {},
     "output_type": "display_data"
    }
   ],
   "source": [
    "# Membuat scatter plot dengan Plotly\n",
    "fig = go.Figure()\n",
    "\n",
    "# Menambahkan scatter plot\n",
    "fig.add_trace(\n",
    "    go.Scatter(x=X_scaled['feature-vector-1'], y=X_scaled['feature-vector-2'], mode='markers', marker=dict(size=10))\n",
    ")\n",
    "\n",
    "# Menyamakan skala sumbu x dan y\n",
    "fig.update_xaxes(scaleanchor=\"y\")\n",
    "fig.update_yaxes(scaleanchor=\"x\")\n",
    "\n",
    "# Menambahkan judul\n",
    "fig.update_layout(title=\"Scatter Plot\")\n",
    "\n",
    "# Menampilkan plot\n",
    "fig.show()\n"
   ]
  },
  {
   "cell_type": "markdown",
   "metadata": {},
   "source": [
    "# ELBOW Analysis "
   ]
  },
  {
   "cell_type": "code",
   "execution_count": 189,
   "metadata": {},
   "outputs": [],
   "source": [
    "#initialize kmeans parameters\n",
    "kmeans_kwargs = {\n",
    "\"init\": \"random\",\n",
    "\"n_init\": 10,\n",
    "\"random_state\": 1,\n",
    "}"
   ]
  },
  {
   "cell_type": "markdown",
   "metadata": {},
   "source": [
    "### Inertia"
   ]
  },
  {
   "cell_type": "code",
   "execution_count": 190,
   "metadata": {},
   "outputs": [
    {
     "data": {
      "image/png": "[encoded data removed]",
      "text/plain": [
       "<Figure size 640x480 with 1 Axes>"
      ]
     },
     "metadata": {},
     "output_type": "display_data"
    }
   ],
   "source": [
    "#create list to hold SSE values for each k\n",
    "sse = []\n",
    "for k in range(1, 11):\n",
    "    kmeans = KMeans(n_clusters=k, **kmeans_kwargs)\n",
    "    kmeans.fit(X_scaled)\n",
    "    sse.append(kmeans.inertia_)\n",
    "\n",
    "#visualize results\n",
    "plt.plot(range(1, 11), sse)\n",
    "plt.xticks(range(1, 11))\n",
    "plt.xlabel(\"Number of Clusters\")\n",
    "plt.ylabel(\"SSE\")\n",
    "plt.show()"
   ]
  },
  {
   "cell_type": "markdown",
   "metadata": {},
   "source": [
    "### Silhoutte score"
   ]
  },
  {
   "cell_type": "code",
   "execution_count": 191,
   "metadata": {},
   "outputs": [
    {
     "data": {
      "image/png": "[encoded data removed]",
      "text/plain": [
       "<Figure size 1000x500 with 1 Axes>"
      ]
     },
     "metadata": {},
     "output_type": "display_data"
    }
   ],
   "source": [
    "score = []\n",
    "k_range = range(2, 21)\n",
    "for k in k_range:\n",
    "    kmeans = KMeans(n_clusters=k, **kmeans_kwargs)\n",
    "    member = kmeans.fit_predict(X_scaled)\n",
    "\n",
    "    siluet = silhouette_score(X_scaled, member, metric='euclidean')\n",
    "    score.append(siluet)\n",
    "    \n",
    "plt.figure(figsize=(10, 5))\n",
    "plt.plot (k_range, score, \"r-\")\n",
    "plt. ylabel (\"Silhouette\" )\n",
    "plt.xlabel (\"n_clusters\");"
   ]
  },
  {
   "cell_type": "markdown",
   "metadata": {},
   "source": [
    "# K-MEANS"
   ]
  },
  {
   "cell_type": "code",
   "execution_count": 172,
   "metadata": {},
   "outputs": [],
   "source": [
    "kmeans_kwargs = {\n",
    "\"init\": \"random\",\n",
    "\"n_init\": 10,\n",
    "\"random_state\": 1,\n",
    "}\n",
    "\n",
    "kmeans = KMeans(n_clusters=k, **kmeans_kwargs)\n",
    "cluster = kmeans.fit_predict(X_scaled)\n",
    "centroid = kmeans.cluster_centers_"
   ]
  },
  {
   "cell_type": "code",
   "execution_count": 173,
   "metadata": {},
   "outputs": [
    {
     "data": {
      "text/plain": [
       "array([7, 0, 2, 1, 9, 2, 3, 7, 2, 8, 9, 1, 2, 8, 8, 2, 3, 2, 5, 2, 2, 0,\n",
       "       1, 1, 9, 2, 1, 1, 7, 1, 1, 7, 6, 2, 2, 6, 9, 5, 3, 8, 5, 2, 1, 4,\n",
       "       8, 8, 1, 2, 7, 2, 4, 0, 7, 4, 1, 6, 3, 6, 3, 1, 1, 4, 1, 3, 3, 3,\n",
       "       7, 4, 9, 2, 6, 0, 7, 2, 7, 3, 3, 4, 1, 2, 5, 8, 5, 0, 0, 3, 2, 7,\n",
       "       2, 3, 4, 1, 9, 7, 1, 8, 5, 7, 1, 5, 6, 3, 2, 1, 1, 1, 5, 5, 9, 5,\n",
       "       6, 6, 7, 2, 1, 3, 3, 0, 1, 1, 1, 3, 5, 9, 9, 3, 1, 9, 6, 3, 0, 5,\n",
       "       4, 9, 8, 7, 2, 7, 6, 4, 3, 0, 4, 1, 8, 7, 7, 1, 5, 4, 8, 6, 1, 5,\n",
       "       3, 1, 8, 8, 7, 4], dtype=int32)"
      ]
     },
     "execution_count": 173,
     "metadata": {},
     "output_type": "execute_result"
    }
   ],
   "source": [
    "cluster"
   ]
  },
  {
   "cell_type": "code",
   "execution_count": 174,
   "metadata": {},
   "outputs": [
    {
     "data": {
      "application/vnd.plotly.v1+json": {
       "config": {
        "plotlyServerURL": "https://plot.ly"
       },
       "data": [
        {
         "marker": {
          "color": [
           7,
           0,
           2,
           1,
           9,
           2,
           3,
           7,
           2,
           8,
           9,
           1,
           2,
           8,
           8,
           2,
           3,
           2,
           5,
           2,
           2,
           0,
           1,
           1,
           9,
           2,
           1,
           1,
           7,
           1,
           1,
           7,
           6,
           2,
           2,
           6,
           9,
           5,
           3,
           8,
           5,
           2,
           1,
           4,
           8,
           8,
           1,
           2,
           7,
           2,
           4,
           0,
           7,
           4,
           1,
           6,
           3,
           6,
           3,
           1,
           1,
           4,
           1,
           3,
           3,
           3,
           7,
           4,
           9,
           2,
           6,
           0,
           7,
           2,
           7,
           3,
           3,
           4,
           1,
           2,
           5,
           8,
           5,
           0,
           0,
           3,
           2,
           7,
           2,
           3,
           4,
           1,
           9,
           7,
           1,
           8,
           5,
           7,
           1,
           5,
           6,
           3,
           2,
           1,
           1,
           1,
           5,
           5,
           9,
           5,
           6,
           6,
           7,
           2,
           1,
           3,
           3,
           0,
           1,
           1,
           1,
           3,
           5,
           9,
           9,
           3,
           1,
           9,
           6,
           3,
           0,
           5,
           4,
           9,
           8,
           7,
           2,
           7,
           6,
           4,
           3,
           0,
           4,
           1,
           8,
           7,
           7,
           1,
           5,
           4,
           8,
           6,
           1,
           5,
           3,
           1,
           8,
           8,
           7,
           4
          ],
          "size": 10
         },
         "mode": "markers",
         "type": "scatter",
         "x": [
          -7.127935886383057,
          15.784226417541504,
          -4.748159408569336,
          2.487161636352539,
          15.277505874633789,
          -3.370455503463745,
          8.220882415771484,
          -8.678420066833496,
          -5.333382606506348,
          -10.673240661621094,
          15.242539405822754,
          1.3905844688415527,
          -5.946147441864014,
          -11.30838680267334,
          -10.758577346801758,
          -3.1805806159973145,
          9.640453338623047,
          -4.750101089477539,
          -12.33210277557373,
          -3.267673969268799,
          -3.6859965324401855,
          15.695592880249023,
          2.841614246368408,
          1.0190775394439697,
          15.231344223022461,
          -5.8834075927734375,
          0.7334542274475098,
          1.191372036933899,
          -6.977267265319824,
          2.8115100860595703,
          0.6542022228240967,
          -6.721426010131836,
          14.933881759643555,
          -4.174688339233398,
          -3.3152971267700195,
          14.836721420288086,
          15.413057327270508,
          -12.173907279968262,
          9.681660652160645,
          -10.790197372436523,
          -12.073101043701172,
          -4.811441898345947,
          0.49240508675575256,
          -10.48930549621582,
          -10.958117485046387,
          -11.40625286102295,
          1.198223352432251,
          -5.478183269500732,
          -9.169544219970703,
          -6.253124713897705,
          -10.974937438964844,
          15.626157760620117,
          -8.47489070892334,
          -11.393470764160156,
          2.5414891242980957,
          14.812878608703613,
          8.663540840148926,
          14.87288761138916,
          8.263020515441895,
          2.346290111541748,
          0.3396240472793579,
          -10.346884727478027,
          1.0711852312088013,
          9.536924362182617,
          8.680520057678223,
          9.224480628967285,
          -7.930981636047363,
          -11.089186668395996,
          15.526359558105469,
          -3.329479694366455,
          14.731635093688965,
          15.377074241638184,
          -8.226262092590332,
          -6.168138027191162,
          -8.930412292480469,
          9.68044662475586,
          8.111699104309082,
          -11.173169136047363,
          0.6696003079414368,
          -3.601348876953125,
          -12.307546615600586,
          -10.915746688842773,
          -12.15374755859375,
          15.758498191833496,
          15.691072463989258,
          8.390887260437012,
          -4.437680721282959,
          -6.838347911834717,
          -4.830616474151611,
          9.122919082641602,
          -10.922194480895996,
          2.7827632427215576,
          15.278487205505371,
          -8.865697860717773,
          0.6719956994056702,
          -11.105887413024902,
          -12.25680160522461,
          -7.526594638824463,
          0.43648824095726013,
          -12.419421195983887,
          14.965371131896973,
          9.043752670288086,
          -3.7529072761535645,
          0.5259904265403748,
          0.028908932581543922,
          2.472968339920044,
          -12.000544548034668,
          -12.272253036499023,
          15.175594329833984,
          -12.19590950012207,
          15.054218292236328,
          14.850998878479004,
          -8.02145004272461,
          -6.273019313812256,
          0.5704941153526306,
          8.056341171264648,
          8.216797828674316,
          15.800973892211914,
          1.1851005554199219,
          0.8388493061065674,
          0.8858805894851685,
          9.52135181427002,
          -12.356720924377441,
          15.435818672180176,
          15.284213066101074,
          9.220779418945312,
          0.134547621011734,
          15.281044960021973,
          14.9256010055542,
          8.358588218688965,
          15.82999038696289,
          -12.541793823242188,
          -10.14041519165039,
          15.318708419799805,
          -10.918915748596191,
          -6.649787425994873,
          -4.562742233276367,
          -8.118353843688965,
          14.795714378356934,
          -11.243091583251953,
          8.686298370361328,
          15.649133682250977,
          -11.239338874816895,
          0.3026670217514038,
          -11.06220531463623,
          -8.390817642211914,
          -8.981565475463867,
          2.961531162261963,
          -12.312969207763672,
          -11.00068187713623,
          -11.182103157043457,
          15.117396354675293,
          2.3823089599609375,
          -12.359390258789062,
          8.779006958007812,
          0.16274411976337433,
          -11.15737533569336,
          -11.224672317504883,
          -8.576056480407715,
          -10.981921195983887
         ],
         "y": [
          8.255294799804688,
          6.087157249450684,
          7.395694732666016,
          -0.8996925354003906,
          8.313323020935059,
          7.369615077972412,
          9.946248054504395,
          9.20456600189209,
          7.576504230499268,
          16.149032592773438,
          8.654358863830566,
          -1.429991602897644,
          7.78007698059082,
          15.615782737731934,
          16.1871395111084,
          7.491795063018799,
          9.935501098632812,
          7.445595741271973,
          13.700882911682129,
          7.458678722381592,
          7.396243572235107,
          6.094429016113281,
          -0.5452781915664673,
          -1.568757176399231,
          8.592867851257324,
          7.747589588165283,
          -1.3674043416976929,
          -1.5831235647201538,
          8.174304008483887,
          -0.5713205933570862,
          -1.1397640705108643,
          7.990309238433838,
          4.531027317047119,
          7.4391303062438965,
          7.437623977661133,
          4.922247409820557,
          8.793827056884766,
          13.272643089294434,
          9.928210258483887,
          16.285219192504883,
          12.658857345581055,
          7.505892276763916,
          -0.894547164440155,
          10.646868705749512,
          16.094806671142578,
          15.429285049438477,
          -1.397788166999817,
          7.618531703948975,
          9.594470977783203,
          7.755500793457031,
          11.063252449035645,
          5.834920883178711,
          9.107476234436035,
          11.53161907196045,
          -0.8530714511871338,
          4.377294063568115,
          9.919915199279785,
          4.495622158050537,
          10.049464225769043,
          -1.047166109085083,
          -0.615071177482605,
          10.513474464416504,
          -1.5566827058792114,
          10.039393424987793,
          10.006288528442383,
          10.008484840393066,
          8.736603736877441,
          11.182663917541504,
          8.588074684143066,
          7.394500255584717,
          4.426277160644531,
          5.476791858673096,
          8.94834041595459,
          7.892840385437012,
          9.407970428466797,
          9.901337623596191,
          9.86437702178955,
          11.27453899383545,
          -1.3464890718460083,
          7.3105268478393555,
          13.007966995239258,
          16.198593139648438,
          12.952963829040527,
          5.815618515014648,
          6.16113805770874,
          10.125441551208496,
          7.350195407867432,
          8.082377433776855,
          7.521111011505127,
          9.960396766662598,
          11.012716293334961,
          -0.6046000123023987,
          8.685522079467773,
          9.343311309814453,
          -0.7361817359924316,
          15.815299987792969,
          13.708758354187012,
          8.474543571472168,
          -0.7454480528831482,
          13.481072425842285,
          4.584543704986572,
          9.872318267822266,
          7.3847880363464355,
          -0.7173334956169128,
          -0.6803469061851501,
          -0.9100256562232971,
          12.54777717590332,
          13.850034713745117,
          8.765534400939941,
          12.989568710327148,
          5.101810455322266,
          4.9203972816467285,
          8.787515640258789,
          7.850131988525391,
          -0.6987136006355286,
          9.814892768859863,
          10.115346908569336,
          6.195718288421631,
          -1.550031304359436,
          -1.5257264375686646,
          -1.6483995914459229,
          10.025985717773438,
          13.147191047668457,
          8.694751739501953,
          8.67913818359375,
          9.897246360778809,
          -0.6116850972175598,
          8.92448616027832,
          5.019282817840576,
          10.0010404586792,
          5.964261054992676,
          13.424405097961426,
          10.341398239135742,
          8.241888999938965,
          15.978973388671875,
          7.974213123321533,
          7.444009304046631,
          8.871525764465332,
          4.827434539794922,
          11.34732723236084,
          10.00104808807373,
          5.698751926422119,
          11.346963882446289,
          -0.6591258645057678,
          16.09508514404297,
          9.013445854187012,
          9.443965911865234,
          -0.4051615595817566,
          13.71678638458252,
          11.087885856628418,
          15.749253273010254,
          4.70672082901001,
          -0.9954325556755066,
          13.498528480529785,
          9.888968467712402,
          -0.596666157245636,
          16.088977813720703,
          15.726278305053711,
          9.167622566223145,
          11.071595191955566
         ]
        },
        {
         "marker": {
          "color": "white",
          "line": {
           "color": "black",
           "width": 2
          },
          "size": 10,
          "symbol": "triangle-up"
         },
         "mode": "markers",
         "type": "scatter",
         "x": [
          15.690301895141602,
          1.2710344791412354,
          -4.597935199737549,
          8.85501766204834,
          -10.916216850280762,
          -12.268301963806152,
          14.899754524230957,
          -8.011433601379395,
          -11.035514831542969,
          15.314970016479492
         ],
         "y": [
          5.925420761108398,
          -0.996701717376709,
          7.525753498077393,
          9.965095520019531,
          11.035025596618652,
          13.282673835754395,
          4.719332218170166,
          8.809881210327148,
          15.954902648925781,
          8.630343437194824
         ]
        }
       ],
       "layout": {
        "template": {
         "data": {
          "bar": [
           {
            "error_x": {
             "color": "#2a3f5f"
            },
            "error_y": {
             "color": "#2a3f5f"
            },
            "marker": {
             "line": {
              "color": "#E5ECF6",
              "width": 0.5
             },
             "pattern": {
              "fillmode": "overlay",
              "size": 10,
              "solidity": 0.2
             }
            },
            "type": "bar"
           }
          ],
          "barpolar": [
           {
            "marker": {
             "line": {
              "color": "#E5ECF6",
              "width": 0.5
             },
             "pattern": {
              "fillmode": "overlay",
              "size": 10,
              "solidity": 0.2
             }
            },
            "type": "barpolar"
           }
          ],
          "carpet": [
           {
            "aaxis": {
             "endlinecolor": "#2a3f5f",
             "gridcolor": "white",
             "linecolor": "white",
             "minorgridcolor": "white",
             "startlinecolor": "#2a3f5f"
            },
            "baxis": {
             "endlinecolor": "#2a3f5f",
             "gridcolor": "white",
             "linecolor": "white",
             "minorgridcolor": "white",
             "startlinecolor": "#2a3f5f"
            },
            "type": "carpet"
           }
          ],
          "choropleth": [
           {
            "colorbar": {
             "outlinewidth": 0,
             "ticks": ""
            },
            "type": "choropleth"
           }
          ],
          "contour": [
           {
            "colorbar": {
             "outlinewidth": 0,
             "ticks": ""
            },
            "colorscale": [
             [
              0,
              "#0d0887"
             ],
             [
              0.1111111111111111,
              "#46039f"
             ],
             [
              0.2222222222222222,
              "#7201a8"
             ],
             [
              0.3333333333333333,
              "#9c179e"
             ],
             [
              0.4444444444444444,
              "#bd3786"
             ],
             [
              0.5555555555555556,
              "#d8576b"
             ],
             [
              0.6666666666666666,
              "#ed7953"
             ],
             [
              0.7777777777777778,
              "#fb9f3a"
             ],
             [
              0.8888888888888888,
              "#fdca26"
             ],
             [
              1,
              "#f0f921"
             ]
            ],
            "type": "contour"
           }
          ],
          "contourcarpet": [
           {
            "colorbar": {
             "outlinewidth": 0,
             "ticks": ""
            },
            "type": "contourcarpet"
           }
          ],
          "heatmap": [
           {
            "colorbar": {
             "outlinewidth": 0,
             "ticks": ""
            },
            "colorscale": [
             [
              0,
              "#0d0887"
             ],
             [
              0.1111111111111111,
              "#46039f"
             ],
             [
              0.2222222222222222,
              "#7201a8"
             ],
             [
              0.3333333333333333,
              "#9c179e"
             ],
             [
              0.4444444444444444,
              "#bd3786"
             ],
             [
              0.5555555555555556,
              "#d8576b"
             ],
             [
              0.6666666666666666,
              "#ed7953"
             ],
             [
              0.7777777777777778,
              "#fb9f3a"
             ],
             [
              0.8888888888888888,
              "#fdca26"
             ],
             [
              1,
              "#f0f921"
             ]
            ],
            "type": "heatmap"
           }
          ],
          "heatmapgl": [
           {
            "colorbar": {
             "outlinewidth": 0,
             "ticks": ""
            },
            "colorscale": [
             [
              0,
              "#0d0887"
             ],
             [
              0.1111111111111111,
              "#46039f"
             ],
             [
              0.2222222222222222,
              "#7201a8"
             ],
             [
              0.3333333333333333,
              "#9c179e"
             ],
             [
              0.4444444444444444,
              "#bd3786"
             ],
             [
              0.5555555555555556,
              "#d8576b"
             ],
             [
              0.6666666666666666,
              "#ed7953"
             ],
             [
              0.7777777777777778,
              "#fb9f3a"
             ],
             [
              0.8888888888888888,
              "#fdca26"
             ],
             [
              1,
              "#f0f921"
             ]
            ],
            "type": "heatmapgl"
           }
          ],
          "histogram": [
           {
            "marker": {
             "pattern": {
              "fillmode": "overlay",
              "size": 10,
              "solidity": 0.2
             }
            },
            "type": "histogram"
           }
          ],
          "histogram2d": [
           {
            "colorbar": {
             "outlinewidth": 0,
             "ticks": ""
            },
            "colorscale": [
             [
              0,
              "#0d0887"
             ],
             [
              0.1111111111111111,
              "#46039f"
             ],
             [
              0.2222222222222222,
              "#7201a8"
             ],
             [
              0.3333333333333333,
              "#9c179e"
             ],
             [
              0.4444444444444444,
              "#bd3786"
             ],
             [
              0.5555555555555556,
              "#d8576b"
             ],
             [
              0.6666666666666666,
              "#ed7953"
             ],
             [
              0.7777777777777778,
              "#fb9f3a"
             ],
             [
              0.8888888888888888,
              "#fdca26"
             ],
             [
              1,
              "#f0f921"
             ]
            ],
            "type": "histogram2d"
           }
          ],
          "histogram2dcontour": [
           {
            "colorbar": {
             "outlinewidth": 0,
             "ticks": ""
            },
            "colorscale": [
             [
              0,
              "#0d0887"
             ],
             [
              0.1111111111111111,
              "#46039f"
             ],
             [
              0.2222222222222222,
              "#7201a8"
             ],
             [
              0.3333333333333333,
              "#9c179e"
             ],
             [
              0.4444444444444444,
              "#bd3786"
             ],
             [
              0.5555555555555556,
              "#d8576b"
             ],
             [
              0.6666666666666666,
              "#ed7953"
             ],
             [
              0.7777777777777778,
              "#fb9f3a"
             ],
             [
              0.8888888888888888,
              "#fdca26"
             ],
             [
              1,
              "#f0f921"
             ]
            ],
            "type": "histogram2dcontour"
           }
          ],
          "mesh3d": [
           {
            "colorbar": {
             "outlinewidth": 0,
             "ticks": ""
            },
            "type": "mesh3d"
           }
          ],
          "parcoords": [
           {
            "line": {
             "colorbar": {
              "outlinewidth": 0,
              "ticks": ""
             }
            },
            "type": "parcoords"
           }
          ],
          "pie": [
           {
            "automargin": true,
            "type": "pie"
           }
          ],
          "scatter": [
           {
            "fillpattern": {
             "fillmode": "overlay",
             "size": 10,
             "solidity": 0.2
            },
            "type": "scatter"
           }
          ],
          "scatter3d": [
           {
            "line": {
             "colorbar": {
              "outlinewidth": 0,
              "ticks": ""
             }
            },
            "marker": {
             "colorbar": {
              "outlinewidth": 0,
              "ticks": ""
             }
            },
            "type": "scatter3d"
           }
          ],
          "scattercarpet": [
           {
            "marker": {
             "colorbar": {
              "outlinewidth": 0,
              "ticks": ""
             }
            },
            "type": "scattercarpet"
           }
          ],
          "scattergeo": [
           {
            "marker": {
             "colorbar": {
              "outlinewidth": 0,
              "ticks": ""
             }
            },
            "type": "scattergeo"
           }
          ],
          "scattergl": [
           {
            "marker": {
             "colorbar": {
              "outlinewidth": 0,
              "ticks": ""
             }
            },
            "type": "scattergl"
           }
          ],
          "scattermapbox": [
           {
            "marker": {
             "colorbar": {
              "outlinewidth": 0,
              "ticks": ""
             }
            },
            "type": "scattermapbox"
           }
          ],
          "scatterpolar": [
           {
            "marker": {
             "colorbar": {
              "outlinewidth": 0,
              "ticks": ""
             }
            },
            "type": "scatterpolar"
           }
          ],
          "scatterpolargl": [
           {
            "marker": {
             "colorbar": {
              "outlinewidth": 0,
              "ticks": ""
             }
            },
            "type": "scatterpolargl"
           }
          ],
          "scatterternary": [
           {
            "marker": {
             "colorbar": {
              "outlinewidth": 0,
              "ticks": ""
             }
            },
            "type": "scatterternary"
           }
          ],
          "surface": [
           {
            "colorbar": {
             "outlinewidth": 0,
             "ticks": ""
            },
            "colorscale": [
             [
              0,
              "#0d0887"
             ],
             [
              0.1111111111111111,
              "#46039f"
             ],
             [
              0.2222222222222222,
              "#7201a8"
             ],
             [
              0.3333333333333333,
              "#9c179e"
             ],
             [
              0.4444444444444444,
              "#bd3786"
             ],
             [
              0.5555555555555556,
              "#d8576b"
             ],
             [
              0.6666666666666666,
              "#ed7953"
             ],
             [
              0.7777777777777778,
              "#fb9f3a"
             ],
             [
              0.8888888888888888,
              "#fdca26"
             ],
             [
              1,
              "#f0f921"
             ]
            ],
            "type": "surface"
           }
          ],
          "table": [
           {
            "cells": {
             "fill": {
              "color": "#EBF0F8"
             },
             "line": {
              "color": "white"
             }
            },
            "header": {
             "fill": {
              "color": "#C8D4E3"
             },
             "line": {
              "color": "white"
             }
            },
            "type": "table"
           }
          ]
         },
         "layout": {
          "annotationdefaults": {
           "arrowcolor": "#2a3f5f",
           "arrowhead": 0,
           "arrowwidth": 1
          },
          "autotypenumbers": "strict",
          "coloraxis": {
           "colorbar": {
            "outlinewidth": 0,
            "ticks": ""
           }
          },
          "colorscale": {
           "diverging": [
            [
             0,
             "#8e0152"
            ],
            [
             0.1,
             "#c51b7d"
            ],
            [
             0.2,
             "#de77ae"
            ],
            [
             0.3,
             "#f1b6da"
            ],
            [
             0.4,
             "#fde0ef"
            ],
            [
             0.5,
             "#f7f7f7"
            ],
            [
             0.6,
             "#e6f5d0"
            ],
            [
             0.7,
             "#b8e186"
            ],
            [
             0.8,
             "#7fbc41"
            ],
            [
             0.9,
             "#4d9221"
            ],
            [
             1,
             "#276419"
            ]
           ],
           "sequential": [
            [
             0,
             "#0d0887"
            ],
            [
             0.1111111111111111,
             "#46039f"
            ],
            [
             0.2222222222222222,
             "#7201a8"
            ],
            [
             0.3333333333333333,
             "#9c179e"
            ],
            [
             0.4444444444444444,
             "#bd3786"
            ],
            [
             0.5555555555555556,
             "#d8576b"
            ],
            [
             0.6666666666666666,
             "#ed7953"
            ],
            [
             0.7777777777777778,
             "#fb9f3a"
            ],
            [
             0.8888888888888888,
             "#fdca26"
            ],
            [
             1,
             "#f0f921"
            ]
           ],
           "sequentialminus": [
            [
             0,
             "#0d0887"
            ],
            [
             0.1111111111111111,
             "#46039f"
            ],
            [
             0.2222222222222222,
             "#7201a8"
            ],
            [
             0.3333333333333333,
             "#9c179e"
            ],
            [
             0.4444444444444444,
             "#bd3786"
            ],
            [
             0.5555555555555556,
             "#d8576b"
            ],
            [
             0.6666666666666666,
             "#ed7953"
            ],
            [
             0.7777777777777778,
             "#fb9f3a"
            ],
            [
             0.8888888888888888,
             "#fdca26"
            ],
            [
             1,
             "#f0f921"
            ]
           ]
          },
          "colorway": [
           "#636efa",
           "#EF553B",
           "#00cc96",
           "#ab63fa",
           "#FFA15A",
           "#19d3f3",
           "#FF6692",
           "#B6E880",
           "#FF97FF",
           "#FECB52"
          ],
          "font": {
           "color": "#2a3f5f"
          },
          "geo": {
           "bgcolor": "white",
           "lakecolor": "white",
           "landcolor": "#E5ECF6",
           "showlakes": true,
           "showland": true,
           "subunitcolor": "white"
          },
          "hoverlabel": {
           "align": "left"
          },
          "hovermode": "closest",
          "mapbox": {
           "style": "light"
          },
          "paper_bgcolor": "white",
          "plot_bgcolor": "#E5ECF6",
          "polar": {
           "angularaxis": {
            "gridcolor": "white",
            "linecolor": "white",
            "ticks": ""
           },
           "bgcolor": "#E5ECF6",
           "radialaxis": {
            "gridcolor": "white",
            "linecolor": "white",
            "ticks": ""
           }
          },
          "scene": {
           "xaxis": {
            "backgroundcolor": "#E5ECF6",
            "gridcolor": "white",
            "gridwidth": 2,
            "linecolor": "white",
            "showbackground": true,
            "ticks": "",
            "zerolinecolor": "white"
           },
           "yaxis": {
            "backgroundcolor": "#E5ECF6",
            "gridcolor": "white",
            "gridwidth": 2,
            "linecolor": "white",
            "showbackground": true,
            "ticks": "",
            "zerolinecolor": "white"
           },
           "zaxis": {
            "backgroundcolor": "#E5ECF6",
            "gridcolor": "white",
            "gridwidth": 2,
            "linecolor": "white",
            "showbackground": true,
            "ticks": "",
            "zerolinecolor": "white"
           }
          },
          "shapedefaults": {
           "line": {
            "color": "#2a3f5f"
           }
          },
          "ternary": {
           "aaxis": {
            "gridcolor": "white",
            "linecolor": "white",
            "ticks": ""
           },
           "baxis": {
            "gridcolor": "white",
            "linecolor": "white",
            "ticks": ""
           },
           "bgcolor": "#E5ECF6",
           "caxis": {
            "gridcolor": "white",
            "linecolor": "white",
            "ticks": ""
           }
          },
          "title": {
           "x": 0.05
          },
          "xaxis": {
           "automargin": true,
           "gridcolor": "white",
           "linecolor": "white",
           "ticks": "",
           "title": {
            "standoff": 15
           },
           "zerolinecolor": "white",
           "zerolinewidth": 2
          },
          "yaxis": {
           "automargin": true,
           "gridcolor": "white",
           "linecolor": "white",
           "ticks": "",
           "title": {
            "standoff": 15
           },
           "zerolinecolor": "white",
           "zerolinewidth": 2
          }
         }
        },
        "xaxis": {
         "scaleratio": 1
        },
        "yaxis": {
         "scaleratio": 1
        }
       }
      }
     },
     "metadata": {},
     "output_type": "display_data"
    }
   ],
   "source": [
    "\n",
    "# Buat scatter plot untuk data\n",
    "scatter = go.Scatter(x=X_scaled['feature-vector-1'], y=X_scaled['feature-vector-2'], mode='markers', marker=dict(color=cluster, size=10))\n",
    "\n",
    "# Buat scatter plot untuk centroid\n",
    "centroid_scatter = go.Scatter(\n",
    "    x=centroid[:, 0], y=centroid[:, 1], mode='markers', marker=dict(\n",
    "            color=\"white\", \n",
    "            size=10, \n",
    "            symbol='triangle-up',  # Menggunakan simbol 'star' untuk tanda\n",
    "            line=dict(color=\"black\", width=2)\n",
    "        )\n",
    ")\n",
    "\n",
    "# Buat figure dan tambahkan scatter plots\n",
    "fig = go.Figure(data=[scatter, centroid_scatter])\n",
    "\n",
    "# Set axis aspect ratio\n",
    "fig.update_xaxes(scaleratio=1)\n",
    "fig.update_yaxes(scaleratio=1)\n",
    "\n",
    "# Tampilkan plot\n",
    "fig.show()"
   ]
  },
  {
   "cell_type": "code",
   "execution_count": 175,
   "metadata": {},
   "outputs": [
    {
     "data": {
      "text/html": [
       "<div>\n",
       "<style scoped>\n",
       "    .dataframe tbody tr th:only-of-type {\n",
       "        vertical-align: middle;\n",
       "    }\n",
       "\n",
       "    .dataframe tbody tr th {\n",
       "        vertical-align: top;\n",
       "    }\n",
       "\n",
       "    .dataframe thead th {\n",
       "        text-align: right;\n",
       "    }\n",
       "</style>\n",
       "<table border=\"1\" class=\"dataframe\">\n",
       "  <thead>\n",
       "    <tr style=\"text-align: right;\">\n",
       "      <th></th>\n",
       "      <th>feature-vector-1</th>\n",
       "      <th>feature-vector-2</th>\n",
       "      <th>label</th>\n",
       "      <th>cluster</th>\n",
       "    </tr>\n",
       "  </thead>\n",
       "  <tbody>\n",
       "    <tr>\n",
       "      <th>0</th>\n",
       "      <td>-7.127936</td>\n",
       "      <td>8.255295</td>\n",
       "      <td>IMG_20210223_102008.jpg</td>\n",
       "      <td>7</td>\n",
       "    </tr>\n",
       "    <tr>\n",
       "      <th>1</th>\n",
       "      <td>15.784226</td>\n",
       "      <td>6.087157</td>\n",
       "      <td>IMG_20210223_102746.jpg</td>\n",
       "      <td>0</td>\n",
       "    </tr>\n",
       "    <tr>\n",
       "      <th>2</th>\n",
       "      <td>-4.748159</td>\n",
       "      <td>7.395695</td>\n",
       "      <td>IMG_20200224_132619.jpg</td>\n",
       "      <td>2</td>\n",
       "    </tr>\n",
       "    <tr>\n",
       "      <th>3</th>\n",
       "      <td>2.487162</td>\n",
       "      <td>-0.899693</td>\n",
       "      <td>IMG_20200224_132816.jpg</td>\n",
       "      <td>1</td>\n",
       "    </tr>\n",
       "    <tr>\n",
       "      <th>4</th>\n",
       "      <td>15.277506</td>\n",
       "      <td>8.313323</td>\n",
       "      <td>IMG_20210329_13252995.jpg</td>\n",
       "      <td>9</td>\n",
       "    </tr>\n",
       "    <tr>\n",
       "      <th>...</th>\n",
       "      <td>...</td>\n",
       "      <td>...</td>\n",
       "      <td>...</td>\n",
       "      <td>...</td>\n",
       "    </tr>\n",
       "    <tr>\n",
       "      <th>155</th>\n",
       "      <td>0.162744</td>\n",
       "      <td>-0.596666</td>\n",
       "      <td>IMG_20210329_13252998.jpg</td>\n",
       "      <td>1</td>\n",
       "    </tr>\n",
       "    <tr>\n",
       "      <th>156</th>\n",
       "      <td>-11.157375</td>\n",
       "      <td>16.088978</td>\n",
       "      <td>IMG_20210223_102603.jpg</td>\n",
       "      <td>8</td>\n",
       "    </tr>\n",
       "    <tr>\n",
       "      <th>157</th>\n",
       "      <td>-11.224672</td>\n",
       "      <td>15.726278</td>\n",
       "      <td>IMG_20200224_132833.jpg</td>\n",
       "      <td>8</td>\n",
       "    </tr>\n",
       "    <tr>\n",
       "      <th>158</th>\n",
       "      <td>-8.576056</td>\n",
       "      <td>9.167623</td>\n",
       "      <td>IMG_20200224_131902.jpg</td>\n",
       "      <td>7</td>\n",
       "    </tr>\n",
       "    <tr>\n",
       "      <th>159</th>\n",
       "      <td>-10.981921</td>\n",
       "      <td>11.071595</td>\n",
       "      <td>IMG_20210223_101901.jpg</td>\n",
       "      <td>4</td>\n",
       "    </tr>\n",
       "  </tbody>\n",
       "</table>\n",
       "<p>160 rows × 4 columns</p>\n",
       "</div>"
      ],
      "text/plain": [
       "     feature-vector-1  feature-vector-2                      label  cluster\n",
       "0           -7.127936          8.255295    IMG_20210223_102008.jpg        7\n",
       "1           15.784226          6.087157    IMG_20210223_102746.jpg        0\n",
       "2           -4.748159          7.395695    IMG_20200224_132619.jpg        2\n",
       "3            2.487162         -0.899693    IMG_20200224_132816.jpg        1\n",
       "4           15.277506          8.313323  IMG_20210329_13252995.jpg        9\n",
       "..                ...               ...                        ...      ...\n",
       "155          0.162744         -0.596666  IMG_20210329_13252998.jpg        1\n",
       "156        -11.157375         16.088978    IMG_20210223_102603.jpg        8\n",
       "157        -11.224672         15.726278    IMG_20200224_132833.jpg        8\n",
       "158         -8.576056          9.167623    IMG_20200224_131902.jpg        7\n",
       "159        -10.981921         11.071595    IMG_20210223_101901.jpg        4\n",
       "\n",
       "[160 rows x 4 columns]"
      ]
     },
     "execution_count": 175,
     "metadata": {},
     "output_type": "execute_result"
    }
   ],
   "source": [
    "X_scaled['label']=Y\n",
    "X_scaled['cluster']=cluster\n",
    "X_scaled"
   ]
  },
  {
   "cell_type": "code",
   "execution_count": 176,
   "metadata": {},
   "outputs": [],
   "source": [
    "X_scaled.to_csv('result_k=7_GLCMangle=0.csv', index=False)"
   ]
  },
  {
   "cell_type": "code",
   "execution_count": 177,
   "metadata": {},
   "outputs": [
    {
     "ename": "Exception",
     "evalue": "The (row, col) pair sent is out of range. Use Figure.print_grid to view the subplot grid. ",
     "output_type": "error",
     "traceback": [
      "\u001b[0;31m---------------------------------------------------------------------------\u001b[0m",
      "\u001b[0;31mIndexError\u001b[0m                                Traceback (most recent call last)",
      "File \u001b[0;32m~/2latihan_python/CSAGRI2023/venv_CSAGRI/lib/python3.10/site-packages/plotly/_subplots.py:1386\u001b[0m, in \u001b[0;36m_set_trace_grid_reference\u001b[0;34m(trace, layout, grid_ref, row, col, secondary_y)\u001b[0m\n\u001b[1;32m   1385\u001b[0m \u001b[39mtry\u001b[39;00m:\n\u001b[0;32m-> 1386\u001b[0m     subplot_refs \u001b[39m=\u001b[39m grid_ref[row \u001b[39m-\u001b[39;49m \u001b[39m1\u001b[39;49m][col \u001b[39m-\u001b[39m \u001b[39m1\u001b[39m]\n\u001b[1;32m   1387\u001b[0m \u001b[39mexcept\u001b[39;00m \u001b[39mIndexError\u001b[39;00m:\n",
      "\u001b[0;31mIndexError\u001b[0m: list index out of range",
      "\nDuring handling of the above exception, another exception occurred:\n",
      "\u001b[0;31mException\u001b[0m                                 Traceback (most recent call last)",
      "\u001b[1;32m/Users/mohzulkiflikatili/2latihan_python/CSAGRI2023/final_project/thisis_final_project_derajat_terpisah.ipynb Cell 26\u001b[0m line \u001b[0;36m2\n\u001b[1;32m     <a href='vscode-notebook-cell:/Users/mohzulkiflikatili/2latihan_python/CSAGRI2023/final_project/thisis_final_project_derajat_terpisah.ipynb#X26sZmlsZQ%3D%3D?line=17'>18</a>\u001b[0m     row \u001b[39m=\u001b[39m i \u001b[39m/\u001b[39m\u001b[39m/\u001b[39m \u001b[39m3\u001b[39m \u001b[39m+\u001b[39m \u001b[39m1\u001b[39m\n\u001b[1;32m     <a href='vscode-notebook-cell:/Users/mohzulkiflikatili/2latihan_python/CSAGRI2023/final_project/thisis_final_project_derajat_terpisah.ipynb#X26sZmlsZQ%3D%3D?line=18'>19</a>\u001b[0m     col \u001b[39m=\u001b[39m i \u001b[39m%\u001b[39m \u001b[39m3\u001b[39m \u001b[39m+\u001b[39m \u001b[39m1\u001b[39m\n\u001b[0;32m---> <a href='vscode-notebook-cell:/Users/mohzulkiflikatili/2latihan_python/CSAGRI2023/final_project/thisis_final_project_derajat_terpisah.ipynb#X26sZmlsZQ%3D%3D?line=19'>20</a>\u001b[0m     fig\u001b[39m.\u001b[39;49madd_trace(trace, row\u001b[39m=\u001b[39;49mrow, col\u001b[39m=\u001b[39;49mcol)\n\u001b[1;32m     <a href='vscode-notebook-cell:/Users/mohzulkiflikatili/2latihan_python/CSAGRI2023/final_project/thisis_final_project_derajat_terpisah.ipynb#X26sZmlsZQ%3D%3D?line=21'>22</a>\u001b[0m \u001b[39m# Konfigurasi tata letak subplot\u001b[39;00m\n\u001b[1;32m     <a href='vscode-notebook-cell:/Users/mohzulkiflikatili/2latihan_python/CSAGRI2023/final_project/thisis_final_project_derajat_terpisah.ipynb#X26sZmlsZQ%3D%3D?line=22'>23</a>\u001b[0m fig\u001b[39m.\u001b[39mupdate_layout(\n\u001b[1;32m     <a href='vscode-notebook-cell:/Users/mohzulkiflikatili/2latihan_python/CSAGRI2023/final_project/thisis_final_project_derajat_terpisah.ipynb#X26sZmlsZQ%3D%3D?line=23'>24</a>\u001b[0m     title\u001b[39m=\u001b[39m\u001b[39m'\u001b[39m\u001b[39mGrid Subplots of Images\u001b[39m\u001b[39m'\u001b[39m,\n\u001b[1;32m     <a href='vscode-notebook-cell:/Users/mohzulkiflikatili/2latihan_python/CSAGRI2023/final_project/thisis_final_project_derajat_terpisah.ipynb#X26sZmlsZQ%3D%3D?line=24'>25</a>\u001b[0m     showlegend\u001b[39m=\u001b[39m\u001b[39mFalse\u001b[39;00m,\n\u001b[1;32m     <a href='vscode-notebook-cell:/Users/mohzulkiflikatili/2latihan_python/CSAGRI2023/final_project/thisis_final_project_derajat_terpisah.ipynb#X26sZmlsZQ%3D%3D?line=25'>26</a>\u001b[0m     height\u001b[39m=\u001b[39m\u001b[39m600\u001b[39m,\n\u001b[1;32m     <a href='vscode-notebook-cell:/Users/mohzulkiflikatili/2latihan_python/CSAGRI2023/final_project/thisis_final_project_derajat_terpisah.ipynb#X26sZmlsZQ%3D%3D?line=26'>27</a>\u001b[0m     width\u001b[39m=\u001b[39m\u001b[39m900\u001b[39m\n\u001b[1;32m     <a href='vscode-notebook-cell:/Users/mohzulkiflikatili/2latihan_python/CSAGRI2023/final_project/thisis_final_project_derajat_terpisah.ipynb#X26sZmlsZQ%3D%3D?line=27'>28</a>\u001b[0m )\n",
      "File \u001b[0;32m~/2latihan_python/CSAGRI2023/venv_CSAGRI/lib/python3.10/site-packages/plotly/graph_objs/_figure.py:900\u001b[0m, in \u001b[0;36mFigure.add_trace\u001b[0;34m(self, trace, row, col, secondary_y, exclude_empty_subplots)\u001b[0m\n\u001b[1;32m    825\u001b[0m \u001b[39mdef\u001b[39;00m \u001b[39madd_trace\u001b[39m(\n\u001b[1;32m    826\u001b[0m     \u001b[39mself\u001b[39m, trace, row\u001b[39m=\u001b[39m\u001b[39mNone\u001b[39;00m, col\u001b[39m=\u001b[39m\u001b[39mNone\u001b[39;00m, secondary_y\u001b[39m=\u001b[39m\u001b[39mNone\u001b[39;00m, exclude_empty_subplots\u001b[39m=\u001b[39m\u001b[39mFalse\u001b[39;00m\n\u001b[1;32m    827\u001b[0m ) \u001b[39m-\u001b[39m\u001b[39m>\u001b[39m \u001b[39m\"\u001b[39m\u001b[39mFigure\u001b[39m\u001b[39m\"\u001b[39m:\n\u001b[1;32m    828\u001b[0m \u001b[39m    \u001b[39m\u001b[39m\"\"\"\u001b[39;00m\n\u001b[1;32m    829\u001b[0m \n\u001b[1;32m    830\u001b[0m \u001b[39m    Add a trace to the figure\u001b[39;00m\n\u001b[0;32m   (...)\u001b[0m\n\u001b[1;32m    898\u001b[0m \n\u001b[1;32m    899\u001b[0m \u001b[39m    \"\"\"\u001b[39;00m\n\u001b[0;32m--> 900\u001b[0m     \u001b[39mreturn\u001b[39;00m \u001b[39msuper\u001b[39;49m(Figure, \u001b[39mself\u001b[39;49m)\u001b[39m.\u001b[39;49madd_trace(\n\u001b[1;32m    901\u001b[0m         trace, row, col, secondary_y, exclude_empty_subplots\n\u001b[1;32m    902\u001b[0m     )\n",
      "File \u001b[0;32m~/2latihan_python/CSAGRI2023/venv_CSAGRI/lib/python3.10/site-packages/plotly/basedatatypes.py:2108\u001b[0m, in \u001b[0;36mBaseFigure.add_trace\u001b[0;34m(self, trace, row, col, secondary_y, exclude_empty_subplots)\u001b[0m\n\u001b[1;32m   2099\u001b[0m         \u001b[39mself\u001b[39m\u001b[39m.\u001b[39madd_trace(\n\u001b[1;32m   2100\u001b[0m             trace,\n\u001b[1;32m   2101\u001b[0m             row\u001b[39m=\u001b[39mr,\n\u001b[0;32m   (...)\u001b[0m\n\u001b[1;32m   2104\u001b[0m             exclude_empty_subplots\u001b[39m=\u001b[39mexclude_empty_subplots,\n\u001b[1;32m   2105\u001b[0m         )\n\u001b[1;32m   2106\u001b[0m     \u001b[39mreturn\u001b[39;00m \u001b[39mself\u001b[39m\n\u001b[0;32m-> 2108\u001b[0m \u001b[39mreturn\u001b[39;00m \u001b[39mself\u001b[39;49m\u001b[39m.\u001b[39;49madd_traces(\n\u001b[1;32m   2109\u001b[0m     data\u001b[39m=\u001b[39;49m[trace],\n\u001b[1;32m   2110\u001b[0m     rows\u001b[39m=\u001b[39;49m[row] \u001b[39mif\u001b[39;49;00m row \u001b[39mis\u001b[39;49;00m \u001b[39mnot\u001b[39;49;00m \u001b[39mNone\u001b[39;49;00m \u001b[39melse\u001b[39;49;00m \u001b[39mNone\u001b[39;49;00m,\n\u001b[1;32m   2111\u001b[0m     cols\u001b[39m=\u001b[39;49m[col] \u001b[39mif\u001b[39;49;00m col \u001b[39mis\u001b[39;49;00m \u001b[39mnot\u001b[39;49;00m \u001b[39mNone\u001b[39;49;00m \u001b[39melse\u001b[39;49;00m \u001b[39mNone\u001b[39;49;00m,\n\u001b[1;32m   2112\u001b[0m     secondary_ys\u001b[39m=\u001b[39;49m[secondary_y] \u001b[39mif\u001b[39;49;00m secondary_y \u001b[39mis\u001b[39;49;00m \u001b[39mnot\u001b[39;49;00m \u001b[39mNone\u001b[39;49;00m \u001b[39melse\u001b[39;49;00m \u001b[39mNone\u001b[39;49;00m,\n\u001b[1;32m   2113\u001b[0m     exclude_empty_subplots\u001b[39m=\u001b[39;49mexclude_empty_subplots,\n\u001b[1;32m   2114\u001b[0m )\n",
      "File \u001b[0;32m~/2latihan_python/CSAGRI2023/venv_CSAGRI/lib/python3.10/site-packages/plotly/graph_objs/_figure.py:980\u001b[0m, in \u001b[0;36mFigure.add_traces\u001b[0;34m(self, data, rows, cols, secondary_ys, exclude_empty_subplots)\u001b[0m\n\u001b[1;32m    904\u001b[0m \u001b[39mdef\u001b[39;00m \u001b[39madd_traces\u001b[39m(\n\u001b[1;32m    905\u001b[0m     \u001b[39mself\u001b[39m,\n\u001b[1;32m    906\u001b[0m     data,\n\u001b[0;32m   (...)\u001b[0m\n\u001b[1;32m    910\u001b[0m     exclude_empty_subplots\u001b[39m=\u001b[39m\u001b[39mFalse\u001b[39;00m,\n\u001b[1;32m    911\u001b[0m ) \u001b[39m-\u001b[39m\u001b[39m>\u001b[39m \u001b[39m\"\u001b[39m\u001b[39mFigure\u001b[39m\u001b[39m\"\u001b[39m:\n\u001b[1;32m    912\u001b[0m \u001b[39m    \u001b[39m\u001b[39m\"\"\"\u001b[39;00m\n\u001b[1;32m    913\u001b[0m \n\u001b[1;32m    914\u001b[0m \u001b[39m    Add traces to the figure\u001b[39;00m\n\u001b[0;32m   (...)\u001b[0m\n\u001b[1;32m    978\u001b[0m \n\u001b[1;32m    979\u001b[0m \u001b[39m    \"\"\"\u001b[39;00m\n\u001b[0;32m--> 980\u001b[0m     \u001b[39mreturn\u001b[39;00m \u001b[39msuper\u001b[39;49m(Figure, \u001b[39mself\u001b[39;49m)\u001b[39m.\u001b[39;49madd_traces(\n\u001b[1;32m    981\u001b[0m         data, rows, cols, secondary_ys, exclude_empty_subplots\n\u001b[1;32m    982\u001b[0m     )\n",
      "File \u001b[0;32m~/2latihan_python/CSAGRI2023/venv_CSAGRI/lib/python3.10/site-packages/plotly/basedatatypes.py:2238\u001b[0m, in \u001b[0;36mBaseFigure.add_traces\u001b[0;34m(self, data, rows, cols, secondary_ys, exclude_empty_subplots)\u001b[0m\n\u001b[1;32m   2236\u001b[0m \u001b[39mif\u001b[39;00m rows \u001b[39mis\u001b[39;00m \u001b[39mnot\u001b[39;00m \u001b[39mNone\u001b[39;00m:\n\u001b[1;32m   2237\u001b[0m     \u001b[39mfor\u001b[39;00m trace, row, col, secondary_y \u001b[39min\u001b[39;00m \u001b[39mzip\u001b[39m(data, rows, cols, secondary_ys):\n\u001b[0;32m-> 2238\u001b[0m         \u001b[39mself\u001b[39;49m\u001b[39m.\u001b[39;49m_set_trace_grid_position(trace, row, col, secondary_y)\n\u001b[1;32m   2240\u001b[0m \u001b[39mif\u001b[39;00m exclude_empty_subplots:\n\u001b[1;32m   2241\u001b[0m     data \u001b[39m=\u001b[39m \u001b[39mlist\u001b[39m(\n\u001b[1;32m   2242\u001b[0m         \u001b[39mfilter\u001b[39m(\n\u001b[1;32m   2243\u001b[0m             \u001b[39mlambda\u001b[39;00m trace: \u001b[39mself\u001b[39m\u001b[39m.\u001b[39m_subplot_not_empty(\n\u001b[0;32m   (...)\u001b[0m\n\u001b[1;32m   2247\u001b[0m         )\n\u001b[1;32m   2248\u001b[0m     )\n",
      "File \u001b[0;32m~/2latihan_python/CSAGRI2023/venv_CSAGRI/lib/python3.10/site-packages/plotly/basedatatypes.py:2330\u001b[0m, in \u001b[0;36mBaseFigure._set_trace_grid_position\u001b[0;34m(self, trace, row, col, secondary_y)\u001b[0m\n\u001b[1;32m   2327\u001b[0m \u001b[39mfrom\u001b[39;00m \u001b[39mplotly\u001b[39;00m\u001b[39m.\u001b[39;00m\u001b[39m_subplots\u001b[39;00m \u001b[39mimport\u001b[39;00m _set_trace_grid_reference\n\u001b[1;32m   2329\u001b[0m grid_ref \u001b[39m=\u001b[39m \u001b[39mself\u001b[39m\u001b[39m.\u001b[39m_validate_get_grid_ref()\n\u001b[0;32m-> 2330\u001b[0m \u001b[39mreturn\u001b[39;00m _set_trace_grid_reference(\n\u001b[1;32m   2331\u001b[0m     trace, \u001b[39mself\u001b[39;49m\u001b[39m.\u001b[39;49mlayout, grid_ref, row, col, secondary_y\n\u001b[1;32m   2332\u001b[0m )\n",
      "File \u001b[0;32m~/2latihan_python/CSAGRI2023/venv_CSAGRI/lib/python3.10/site-packages/plotly/_subplots.py:1388\u001b[0m, in \u001b[0;36m_set_trace_grid_reference\u001b[0;34m(trace, layout, grid_ref, row, col, secondary_y)\u001b[0m\n\u001b[1;32m   1386\u001b[0m         subplot_refs \u001b[39m=\u001b[39m grid_ref[row \u001b[39m-\u001b[39m \u001b[39m1\u001b[39m][col \u001b[39m-\u001b[39m \u001b[39m1\u001b[39m]\n\u001b[1;32m   1387\u001b[0m     \u001b[39mexcept\u001b[39;00m \u001b[39mIndexError\u001b[39;00m:\n\u001b[0;32m-> 1388\u001b[0m         \u001b[39mraise\u001b[39;00m \u001b[39mException\u001b[39;00m(\n\u001b[1;32m   1389\u001b[0m             \u001b[39m\"\u001b[39m\u001b[39mThe (row, col) pair sent is out of \u001b[39m\u001b[39m\"\u001b[39m\n\u001b[1;32m   1390\u001b[0m             \u001b[39m\"\u001b[39m\u001b[39mrange. Use Figure.print_grid to view the \u001b[39m\u001b[39m\"\u001b[39m\n\u001b[1;32m   1391\u001b[0m             \u001b[39m\"\u001b[39m\u001b[39msubplot grid. \u001b[39m\u001b[39m\"\u001b[39m\n\u001b[1;32m   1392\u001b[0m         )\n\u001b[1;32m   1394\u001b[0m     \u001b[39mif\u001b[39;00m \u001b[39mnot\u001b[39;00m subplot_refs:\n\u001b[1;32m   1395\u001b[0m         \u001b[39mraise\u001b[39;00m \u001b[39mValueError\u001b[39;00m(\n\u001b[1;32m   1396\u001b[0m \u001b[39m            \u001b[39m\u001b[39m\"\"\"\u001b[39;00m\n\u001b[1;32m   1397\u001b[0m \u001b[39mNo subplot specified at grid position ({row}, {col})\"\"\"\u001b[39;00m\u001b[39m.\u001b[39mformat(\n\u001b[1;32m   1398\u001b[0m                 row\u001b[39m=\u001b[39mrow, col\u001b[39m=\u001b[39mcol\n\u001b[1;32m   1399\u001b[0m             )\n\u001b[1;32m   1400\u001b[0m         )\n",
      "\u001b[0;31mException\u001b[0m: The (row, col) pair sent is out of range. Use Figure.print_grid to view the subplot grid. "
     ]
    }
   ],
   "source": [
    "# Daftar path file gambar\n",
    "image_paths = []\n",
    "for k in X_scaled.cluster.unique():\n",
    "    cluster_data = X_scaled[X_scaled['cluster'] == k]\n",
    "    # random_sample = cluster_data.sample(1, random_state=42)  # Ganti random_state sesuai kebutuhan Anda\n",
    "    # label = random_sample.iloc[0].label\n",
    "    # image_paths.append(raw_folder_path + label)\n",
    "    label = cluster_data.iloc[0].label\n",
    "    image_paths.append(raw_folder_path + label)\n",
    "\n",
    "# Buat subplot grid\n",
    "fig = sp.make_subplots(rows=2, cols=3)\n",
    "\n",
    "# Loop melalui setiap path file gambar dan tambahkan ke subplot\n",
    "for i, image_path in enumerate(image_paths):\n",
    "    img = pimage.open(image_path)\n",
    "    trace = go.Image(z=img)\n",
    "    row = i // 3 + 1\n",
    "    col = i % 3 + 1\n",
    "    fig.add_trace(trace, row=row, col=col)\n",
    "\n",
    "# Konfigurasi tata letak subplot\n",
    "fig.update_layout(\n",
    "    title='Grid Subplots of Images',\n",
    "    showlegend=False,\n",
    "    height=600,\n",
    "    width=900\n",
    ")\n",
    "\n",
    "# Menampilkan plot\n",
    "fig.show()\n"
   ]
  },
  {
   "cell_type": "markdown",
   "metadata": {},
   "source": [
    "# Notes\n",
    "- compare 4,5,6, cluste which one is the best? add silhouete score or other evaluation method\n",
    "- group the images based on cluster (folder), and ask the expert opinion\n",
    "- we need to evaluate using metric to define how the performance, or validated by expert, not manualy check \n",
    "- add explanation/reasoning about GLCM. from scientific article \n",
    "- finding another work about clustering/clasification Golden Melon Leaf compare to our work.\n",
    "\n",
    "Categorizatioin, Golden Melon Leaf\n",
    "\n",
    "Evaluation methods than can be used:\n",
    "- Silhouette Score\n",
    "- Inertia (Within-Cluster Sum of Squares)\n",
    "- Dunn Index"
   ]
  }
 ],
 "metadata": {
  "kernelspec": {
   "display_name": "venv_pak_reza",
   "language": "python",
   "name": "python3"
  },
  "language_info": {
   "codemirror_mode": {
    "name": "ipython",
    "version": 3
   },
   "file_extension": ".py",
   "mimetype": "text/x-python",
   "name": "python",
   "nbconvert_exporter": "python",
   "pygments_lexer": "ipython3",
   "version": "3.10.9"
  },
  "orig_nbformat": 4
 },
 "nbformat": 4,
 "nbformat_minor": 2
}
