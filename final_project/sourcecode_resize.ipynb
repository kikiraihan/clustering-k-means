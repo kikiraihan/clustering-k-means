{
  "cells": [
    {
      "cell_type": "code",
      "execution_count": 1,
      "metadata": {
        "id": "d0i0TKm27sfq"
      },
      "outputs": [],
      "source": [
        "import os\n",
        "from PIL import Image"
      ]
    },
    {
      "cell_type": "code",
      "execution_count": 2,
      "metadata": {
        "colab": {
          "base_uri": "https://localhost:8080/"
        },
        "id": "BXL3stt95idA",
        "outputId": "a4ffbbf3-217c-483c-85e5-abeaea80ce71"
      },
      "outputs": [
        {
          "name": "stdout",
          "output_type": "stream",
          "text": [
            "Drive already mounted at /content/drive; to attempt to forcibly remount, call drive.mount(\"/content/drive\", force_remount=True).\n"
          ]
        }
      ],
      "source": [
        "from google.colab import drive\n",
        "drive.mount('/content/drive')"
      ]
    },
    {
      "cell_type": "code",
      "execution_count": 3,
      "metadata": {
        "id": "l32NqHGW6qz0"
      },
      "outputs": [],
      "source": [
        "folder_path = '/content/drive/MyDrive/melon_leaves'"
      ]
    },
    {
      "cell_type": "code",
      "execution_count": 4,
      "metadata": {
        "id": "ryh6gn3i8Kzz"
      },
      "outputs": [],
      "source": [
        "image_files = os.listdir(folder_path)"
      ]
    },
    {
      "cell_type": "code",
      "execution_count": 5,
      "metadata": {
        "id": "FJQgDyXn8PME"
      },
      "outputs": [],
      "source": [
        "images = []\n",
        "for filename in image_files:\n",
        "    if filename.endswith((\".jpg\", \".png\", \".jpeg\")):  # Anda bisa menyesuaikan ekstensi file yang diinginkan\n",
        "        image = Image.open(os.path.join(folder_path, filename))\n",
        "        images.append(image)"
      ]
    },
    {
      "cell_type": "code",
      "execution_count": 6,
      "metadata": {
        "id": "tuY9wVPc8Qqx"
      },
      "outputs": [],
      "source": [
        "input_folder_path = '/content/drive/MyDrive/melon_leaves'\n",
        "output_folder_path = '/content/drive/MyDrive/PG/melon_leaves'"
      ]
    },
    {
      "cell_type": "code",
      "execution_count": 7,
      "metadata": {
        "id": "Za2leRKZA1Ls"
      },
      "outputs": [],
      "source": [
        "if not os.path.exists(output_folder_path):\n",
        "    os.makedirs(output_folder_path)"
      ]
    },
    {
      "cell_type": "code",
      "execution_count": 8,
      "metadata": {
        "id": "AuD5eckfA7Ei"
      },
      "outputs": [],
      "source": [
        "image_files = os.listdir(input_folder_path)"
      ]
    },
    {
      "cell_type": "code",
      "execution_count": 9,
      "metadata": {
        "colab": {
          "base_uri": "https://localhost:8080/"
        },
        "id": "1VDPFf_eA964",
        "outputId": "ea8ec1b9-e8ea-46fc-d5e0-2d6ab0b87199"
      },
      "outputs": [
        {
          "name": "stdout",
          "output_type": "stream",
          "text": [
            "Resize selesai.\n"
          ]
        }
      ],
      "source": [
        "for filename in image_files:\n",
        "    if filename.endswith((\".jpg\", \".png\", \".jpeg\")):  # Anda bisa menyesuaikan ekstensi file yang diinginkan\n",
        "        image = Image.open(os.path.join(input_folder_path, filename))\n",
        "\n",
        "        # Resize gambar (gantilah ukuran sesuai kebutuhan Anda)\n",
        "        new_width = 200  # Lebar baru\n",
        "        new_height = 200  # Tinggi baru\n",
        "        resized_image = image.resize((new_width, new_height))\n",
        "\n",
        "        # Simpan gambar hasil resize ke folder output\n",
        "        resized_image.save(os.path.join(output_folder_path, filename))\n",
        "\n",
        "print(\"Resize selesai.\")"
      ]
    }
  ],
  "metadata": {
    "colab": {
      "provenance": []
    },
    "kernelspec": {
      "display_name": "Python 3",
      "name": "python3"
    },
    "language_info": {
      "name": "python"
    }
  },
  "nbformat": 4,
  "nbformat_minor": 0
}
