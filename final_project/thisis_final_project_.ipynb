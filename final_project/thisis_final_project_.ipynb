{
 "cells": [
  {
   "cell_type": "code",
   "execution_count": null,
   "metadata": {},
   "outputs": [],
   "source": [
    "# Import library yang diperlukan\n",
    "import cv2\n",
    "import numpy as np\n",
    "import os\n",
    "from skimage.feature import graycomatrix, graycoprops\n",
    "import pandas as pd \n",
    "from umap import UMAP\n",
    "from sklearn.cluster import KMeans\n",
    "import matplotlib.pyplot as plt\n",
    "\n",
    "import plotly.graph_objects as go\n",
    "import plotly.subplots as sp\n",
    "import PIL.Image as pimage\n",
    "from IPython.display import Image"
   ]
  },
  {
   "cell_type": "markdown",
   "metadata": {},
   "source": [
    "# Pra proses"
   ]
  },
  {
   "cell_type": "code",
   "execution_count": null,
   "metadata": {},
   "outputs": [],
   "source": [
    "# Path ke folder yang berisi citra\n",
    "folder_path = './resize_mleaves/'\n",
    "raw_folder_path = './melon_leaves/'\n",
    "image_files = os.listdir(folder_path)\n",
    "\n",
    "Image(filename=folder_path+image_files[5]) "
   ]
  },
  {
   "cell_type": "code",
   "execution_count": null,
   "metadata": {},
   "outputs": [],
   "source": []
  },
  {
   "cell_type": "code",
   "execution_count": null,
   "metadata": {},
   "outputs": [],
   "source": [
    "imgs_matrix = [] #list image matrix \n",
    "imgs_label = [] #image path\n",
    "for filename in image_files:\n",
    "    image = cv2.imread(folder_path+filename)\n",
    "    gray = cv2.cvtColor(image, cv2.COLOR_BGR2GRAY)\n",
    "\n",
    "    h, w = gray.shape\n",
    "    ymin, ymax, xmin, xmax = h//3, h*2//3, w//3, w*2//3\n",
    "    crop = gray[ymin:ymax, xmin:xmax]\n",
    "\n",
    "    resize = cv2.resize(crop, (0,0), fx=0.5, fy=0.5)\n",
    "\n",
    "    imgs_matrix.append(resize)\n",
    "    imgs_label.append(filename)"
   ]
  },
  {
   "cell_type": "code",
   "execution_count": null,
   "metadata": {},
   "outputs": [],
   "source": [
    "# ----------------- calculate greycomatrix() & greycoprops() for angle 0, 45, 90, 135 ----------------------------------\n",
    "# what happen if there is some change in parameter GLCM?, distance=4? and levels, what commonly value used?\n",
    "def calc_glcm_all_agls(img, label, props, dists=[5], agls=[0, np.pi/4, np.pi/2, 3*np.pi/4], lvl=256, sym=True, norm=True):\n",
    "    glcm = graycomatrix(\n",
    "        img, \n",
    "        distances=dists, \n",
    "        angles=agls, \n",
    "        levels=lvl,\n",
    "        symmetric=sym, \n",
    "        normed=norm\n",
    "    )\n",
    "    feature = []\n",
    "    feature.append(label) #append label\n",
    "\n",
    "    # append GLCM properties\n",
    "    # glcm_props = []\n",
    "    # for name in props:\n",
    "    #     for property in graycoprops(glcm, name)[0]:\n",
    "    #           glcm_props.append(property)\n",
    "    # for item in glcm_props:\n",
    "    #         feature.append(item)\n",
    "    glcm_props = []\n",
    "    for prop in props:\n",
    "        from_graycoprops = graycoprops(glcm, prop) # shape array (1, 4)\n",
    "        glcm_props.extend(from_graycoprops[0])\n",
    "    feature.extend(glcm_props)\n",
    "\n",
    "    \n",
    "    return feature"
   ]
  },
  {
   "cell_type": "code",
   "execution_count": null,
   "metadata": {},
   "outputs": [],
   "source": [
    "# ----------------- call calc_glcm_all_agls() for all properties ----------------------------------\n",
    "properties = ['dissimilarity', 'correlation', 'homogeneity', 'contrast', 'ASM', 'energy']\n",
    "\n",
    "glcm_all_agls = []\n",
    "for img,label in zip(imgs_matrix, imgs_label): \n",
    "    glcm_all_agls.append(\n",
    "            calc_glcm_all_agls(img, label, props=properties)\n",
    "            )"
   ]
  },
  {
   "cell_type": "code",
   "execution_count": null,
   "metadata": {},
   "outputs": [],
   "source": [
    "# Create the pandas DataFrame for GLCM features data\n",
    "# column\n",
    "columns = []\n",
    "columns.append(\"label\") #label column\n",
    "# GLCM column\n",
    "angles = ['0', '45', '90','135']\n",
    "for name in properties:\n",
    "    for ang in angles:\n",
    "        columns.append(name + \"_\" + ang)\n",
    "\n",
    "# create dataframe\n",
    "glcm_df = pd.DataFrame(glcm_all_agls, columns = columns)\n",
    "glcm_df.head(15)"
   ]
  },
  {
   "cell_type": "code",
   "execution_count": null,
   "metadata": {},
   "outputs": [],
   "source": [
    "glcm_df.shape"
   ]
  },
  {
   "cell_type": "markdown",
   "metadata": {},
   "source": [
    "# Reduksi Dimensi\n"
   ]
  },
  {
   "cell_type": "code",
   "execution_count": null,
   "metadata": {},
   "outputs": [],
   "source": [
    "X = glcm_df.drop(['label'], axis=1)\n",
    "Y = glcm_df['label']"
   ]
  },
  {
   "cell_type": "code",
   "execution_count": null,
   "metadata": {},
   "outputs": [],
   "source": [
    "# UMAP reduction\n",
    "# Reduce the dimensions of entity embeddings to represent them in a 2D plane.\n",
    "X_scaled = UMAP().fit_transform(X)\n",
    "X_scaled=pd.DataFrame(X_scaled,columns=['feature-vector-1','feature-vector-2'])"
   ]
  },
  {
   "cell_type": "code",
   "execution_count": null,
   "metadata": {},
   "outputs": [],
   "source": [
    "# Membuat scatter plot dengan Plotly\n",
    "fig = go.Figure()\n",
    "\n",
    "# Menambahkan scatter plot\n",
    "fig.add_trace(\n",
    "    go.Scatter(x=X_scaled['feature-vector-1'], y=X_scaled['feature-vector-2'], mode='markers', marker=dict(size=10))\n",
    ")\n",
    "\n",
    "# Menyamakan skala sumbu x dan y\n",
    "fig.update_xaxes(scaleanchor=\"y\")\n",
    "fig.update_yaxes(scaleanchor=\"x\")\n",
    "\n",
    "# Menambahkan judul\n",
    "fig.update_layout(title=\"Scatter Plot\")\n",
    "\n",
    "# Menampilkan plot\n",
    "fig.show()\n"
   ]
  },
  {
   "cell_type": "markdown",
   "metadata": {},
   "source": [
    "# ELBOW Analysis \n",
    "Untuk jumlah klaster"
   ]
  },
  {
   "cell_type": "code",
   "execution_count": null,
   "metadata": {},
   "outputs": [],
   "source": [
    "#initialize kmeans parameters\n",
    "kmeans_kwargs = {\n",
    "\"init\": \"random\",\n",
    "\"n_init\": 10,\n",
    "\"random_state\": 1,\n",
    "}\n",
    "\n",
    "#create list to hold SSE values for each k\n",
    "sse = []\n",
    "for k in range(1, 11):\n",
    "    kmeans = KMeans(n_clusters=k, **kmeans_kwargs)\n",
    "    kmeans.fit(X)\n",
    "    sse.append(kmeans.inertia_)\n",
    "\n",
    "#visualize results\n",
    "plt.plot(range(1, 11), sse)\n",
    "plt.xticks(range(1, 11))\n",
    "plt.xlabel(\"Number of Clusters\")\n",
    "plt.ylabel(\"SSE\")\n",
    "plt.show()"
   ]
  },
  {
   "cell_type": "markdown",
   "metadata": {},
   "source": [
    "# K-MEANS"
   ]
  },
  {
   "cell_type": "code",
   "execution_count": null,
   "metadata": {},
   "outputs": [],
   "source": [
    "kmeans = KMeans(n_clusters=5)\n",
    "cluster = kmeans.fit_predict(X_scaled)\n",
    "centroid = kmeans.cluster_centers_"
   ]
  },
  {
   "cell_type": "code",
   "execution_count": null,
   "metadata": {},
   "outputs": [],
   "source": [
    "cluster"
   ]
  },
  {
   "cell_type": "code",
   "execution_count": null,
   "metadata": {},
   "outputs": [],
   "source": [
    "\n",
    "# Buat scatter plot untuk data\n",
    "scatter = go.Scatter(x=X_scaled['feature-vector-1'], y=X_scaled['feature-vector-2'], mode='markers', marker=dict(color=cluster, size=10))\n",
    "\n",
    "# Buat scatter plot untuk centroid\n",
    "centroid_scatter = go.Scatter(\n",
    "    x=centroid[:, 0], y=centroid[:, 1], mode='markers', marker=dict(\n",
    "            color=\"white\", \n",
    "            size=10, \n",
    "            symbol='triangle-up',  # Menggunakan simbol 'star' untuk tanda\n",
    "            line=dict(color=\"black\", width=2)\n",
    "        )\n",
    ")\n",
    "\n",
    "# Buat figure dan tambahkan scatter plots\n",
    "fig = go.Figure(data=[scatter, centroid_scatter])\n",
    "\n",
    "# Set axis aspect ratio\n",
    "fig.update_xaxes(scaleratio=1)\n",
    "fig.update_yaxes(scaleratio=1)\n",
    "\n",
    "# Tampilkan plot\n",
    "fig.show()"
   ]
  },
  {
   "cell_type": "code",
   "execution_count": null,
   "metadata": {},
   "outputs": [],
   "source": [
    "X_scaled['label']=Y\n",
    "X_scaled['cluster']=cluster\n",
    "X_scaled"
   ]
  },
  {
   "cell_type": "code",
   "execution_count": null,
   "metadata": {},
   "outputs": [],
   "source": [
    "# Daftar path file gambar\n",
    "image_paths = []\n",
    "for k in X_scaled.cluster.unique():\n",
    "    cluster_data = X_scaled[X_scaled['cluster'] == k]\n",
    "    # random_sample = cluster_data.sample(1, random_state=42)  # Ganti random_state sesuai kebutuhan Anda\n",
    "    # label = random_sample.iloc[0].label\n",
    "    # image_paths.append(raw_folder_path + label)\n",
    "    label = cluster_data.iloc[0].label\n",
    "    image_paths.append(raw_folder_path + label)\n",
    "\n",
    "# Buat subplot grid\n",
    "fig = sp.make_subplots(rows=2, cols=3)\n",
    "\n",
    "# Loop melalui setiap path file gambar dan tambahkan ke subplot\n",
    "for i, image_path in enumerate(image_paths):\n",
    "    img = pimage.open(image_path)\n",
    "    trace = go.Image(z=img)\n",
    "    row = i // 3 + 1\n",
    "    col = i % 3 + 1\n",
    "    fig.add_trace(trace, row=row, col=col)\n",
    "\n",
    "# Konfigurasi tata letak subplot\n",
    "fig.update_layout(\n",
    "    title='Grid Subplots of Images',\n",
    "    showlegend=False,\n",
    "    height=600,\n",
    "    width=900\n",
    ")\n",
    "\n",
    "# Menampilkan plot\n",
    "fig.show()\n"
   ]
  },
  {
   "cell_type": "markdown",
   "metadata": {},
   "source": [
    "# Notes\n",
    "- compare 4,5,6, cluste which one is the best? add silhouete score or other evaluation method\n",
    "- group the images based on cluster (folder), and ask the expert opinion\n",
    "- we need to evaluate using metric to define how the performance, or validated by expert, not manualy check \n",
    "- add explanation/reasoning about GLCM. from scientific article \n",
    "- finding another work about clustering/clasification Golden Melon Leaf compare to our work.\n",
    "\n",
    "Categorizatioin, Golden Melon Leaf\n",
    "\n",
    "Evaluation methods than can be used:\n",
    "- Silhouette Score\n",
    "- Inertia (Within-Cluster Sum of Squares)\n",
    "- Dunn Index"
   ]
  },
  {
   "cell_type": "code",
   "execution_count": 1,
   "metadata": {},
   "outputs": [],
   "source": [
    "from sklearn.metrics import silhouette_samples, silhouette_score"
   ]
  },
  {
   "cell_type": "code",
   "execution_count": null,
   "metadata": {},
   "outputs": [],
   "source": []
  }
 ],
 "metadata": {
  "kernelspec": {
   "display_name": "venv_pak_reza",
   "language": "python",
   "name": "python3"
  },
  "language_info": {
   "codemirror_mode": {
    "name": "ipython",
    "version": 3
   },
   "file_extension": ".py",
   "mimetype": "text/x-python",
   "name": "python",
   "nbconvert_exporter": "python",
   "pygments_lexer": "ipython3",
   "version": "3.10.9"
  },
  "orig_nbformat": 4
 },
 "nbformat": 4,
 "nbformat_minor": 2
}
